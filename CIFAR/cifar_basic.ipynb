{
  "nbformat": 4,
  "nbformat_minor": 0,
  "metadata": {
    "colab": {
      "name": "cifar_basic.ipynb",
      "provenance": []
    },
    "kernelspec": {
      "display_name": "Python 3",
      "name": "python3"
    },
    "language_info": {
      "name": "python"
    }
  },
  "cells": [
    {
      "cell_type": "code",
      "metadata": {
        "id": "O-OOtRGeVPAW"
      },
      "source": [
        "import tensorflow as tf\n",
        "from tensorflow import keras\n",
        "import numpy as np"
      ],
      "execution_count": null,
      "outputs": []
    },
    {
      "cell_type": "code",
      "metadata": {
        "id": "5GuzXaGdVR86"
      },
      "source": [
        "tf.random.set_seed(42)\n",
        "np.random.seed(42)\n",
        "\n",
        "model = keras.models.Sequential()\n",
        "model.add(keras.layers.Flatten(input_shape=[32, 32, 3]))\n",
        "\n",
        "for _ in range(20):\n",
        "    model.add(keras.layers.Dense(100, activation=\"elu\", kernel_initializer=\"he_normal\"))"
      ],
      "execution_count": null,
      "outputs": []
    },
    {
      "cell_type": "code",
      "metadata": {
        "id": "i9ScZ52BWF-l"
      },
      "source": [
        "model.add(keras.layers.Dense(10, activation=\"softmax\"))"
      ],
      "execution_count": null,
      "outputs": []
    },
    {
      "cell_type": "code",
      "metadata": {
        "id": "i6879veUWgEY"
      },
      "source": [
        "optimizer = keras.optimizers.Nadam(learning_rate=5e-5)\n",
        "model.compile(loss=\"sparse_categorical_crossentropy\",\n",
        "              optimizer=optimizer,\n",
        "              metrics=[\"accuracy\"])"
      ],
      "execution_count": null,
      "outputs": []
    },
    {
      "cell_type": "code",
      "metadata": {
        "id": "xmqsU8xMWpE0"
      },
      "source": [
        "(X_train_full, y_train_full), (X_test, y_test) = keras.datasets.cifar10.load_data()\n",
        "\n",
        "X_train = X_train_full[5000:]\n",
        "y_train = y_train_full[5000:]\n",
        "X_valid = X_train_full[:5000]\n",
        "y_valid = y_train_full[:5000]"
      ],
      "execution_count": null,
      "outputs": []
    },
    {
      "cell_type": "code",
      "metadata": {
        "id": "ojZ_2ll2XTTG"
      },
      "source": [
        "early_stopping_cb = keras.callbacks.EarlyStopping(patience=20)\n",
        "model_checkpoint_cb = keras.callbacks.ModelCheckpoint(\"my_cifar10_model.h5\", save_best_only=True)\n",
        "callbacks = [early_stopping_cb, model_checkpoint_cb]"
      ],
      "execution_count": null,
      "outputs": []
    },
    {
      "cell_type": "code",
      "metadata": {
        "colab": {
          "background_save": true,
          "base_uri": "https://localhost:8080/"
        },
        "id": "wx54KFTSXnNL",
        "outputId": "a60475fa-a64e-4ec6-b721-fed266c08d79"
      },
      "source": [
        "model.fit(X_train, y_train, epochs=100, validation_data=(X_valid, y_valid), callbacks=callbacks)"
      ],
      "execution_count": null,
      "outputs": [
        {
          "name": "stdout",
          "output_type": "stream",
          "text": [
            "Epoch 1/100\n",
            "1407/1407 [==============================] - 22s 13ms/step - loss: 4.0364 - accuracy: 0.1656 - val_loss: 2.1555 - val_accuracy: 0.2286\n",
            "Epoch 2/100\n",
            "1407/1407 [==============================] - 18s 13ms/step - loss: 2.0652 - accuracy: 0.2493 - val_loss: 2.0693 - val_accuracy: 0.2476\n",
            "Epoch 3/100\n",
            "1407/1407 [==============================] - 17s 12ms/step - loss: 1.9359 - accuracy: 0.2952 - val_loss: 1.9710 - val_accuracy: 0.2864\n",
            "Epoch 4/100\n",
            "1407/1407 [==============================] - 17s 12ms/step - loss: 1.8537 - accuracy: 0.3263 - val_loss: 1.8315 - val_accuracy: 0.3372\n",
            "Epoch 5/100\n",
            "1407/1407 [==============================] - 18s 12ms/step - loss: 1.7966 - accuracy: 0.3490 - val_loss: 1.7876 - val_accuracy: 0.3406\n",
            "Epoch 6/100\n",
            "1407/1407 [==============================] - 18s 13ms/step - loss: 1.7503 - accuracy: 0.3692 - val_loss: 1.7669 - val_accuracy: 0.3670\n",
            "Epoch 7/100\n",
            "1407/1407 [==============================] - 18s 13ms/step - loss: 1.7070 - accuracy: 0.3820 - val_loss: 1.7220 - val_accuracy: 0.3792\n",
            "Epoch 8/100\n",
            "1407/1407 [==============================] - 18s 13ms/step - loss: 1.6736 - accuracy: 0.3960 - val_loss: 1.6584 - val_accuracy: 0.4050\n",
            "Epoch 9/100\n",
            "1407/1407 [==============================] - 18s 13ms/step - loss: 1.6435 - accuracy: 0.4077 - val_loss: 1.6523 - val_accuracy: 0.4022\n",
            "Epoch 10/100\n",
            "1407/1407 [==============================] - 18s 13ms/step - loss: 1.6199 - accuracy: 0.4172 - val_loss: 1.6833 - val_accuracy: 0.3858\n",
            "Epoch 11/100\n",
            "1407/1407 [==============================] - 18s 12ms/step - loss: 1.5928 - accuracy: 0.4257 - val_loss: 1.6609 - val_accuracy: 0.3956\n",
            "Epoch 12/100\n",
            "1407/1407 [==============================] - 18s 13ms/step - loss: 1.5724 - accuracy: 0.4354 - val_loss: 1.6687 - val_accuracy: 0.4066\n",
            "Epoch 13/100\n",
            "1407/1407 [==============================] - 18s 13ms/step - loss: 1.5505 - accuracy: 0.4428 - val_loss: 1.6079 - val_accuracy: 0.4200\n",
            "Epoch 14/100\n",
            "1407/1407 [==============================] - 18s 12ms/step - loss: 1.5329 - accuracy: 0.4482 - val_loss: 1.6125 - val_accuracy: 0.4136\n",
            "Epoch 15/100\n",
            "1407/1407 [==============================] - 18s 13ms/step - loss: 1.5170 - accuracy: 0.4559 - val_loss: 1.5723 - val_accuracy: 0.4378\n",
            "Epoch 16/100\n",
            "1407/1407 [==============================] - 18s 13ms/step - loss: 1.4970 - accuracy: 0.4605 - val_loss: 1.5724 - val_accuracy: 0.4388\n",
            "Epoch 17/100\n",
            "1407/1407 [==============================] - 18s 13ms/step - loss: 1.4841 - accuracy: 0.4661 - val_loss: 1.5720 - val_accuracy: 0.4438\n",
            "Epoch 18/100\n",
            "1407/1407 [==============================] - 18s 12ms/step - loss: 1.4688 - accuracy: 0.4717 - val_loss: 1.5923 - val_accuracy: 0.4368\n",
            "Epoch 19/100\n",
            "1407/1407 [==============================] - 18s 12ms/step - loss: 1.4548 - accuracy: 0.4785 - val_loss: 1.5651 - val_accuracy: 0.4380\n",
            "Epoch 20/100\n",
            "1407/1407 [==============================] - 18s 13ms/step - loss: 1.4406 - accuracy: 0.4832 - val_loss: 1.5644 - val_accuracy: 0.4408\n",
            "Epoch 21/100\n",
            "1407/1407 [==============================] - 18s 13ms/step - loss: 1.4293 - accuracy: 0.4878 - val_loss: 1.6071 - val_accuracy: 0.4370\n",
            "Epoch 22/100\n",
            "1407/1407 [==============================] - 18s 13ms/step - loss: 1.4176 - accuracy: 0.4900 - val_loss: 1.5565 - val_accuracy: 0.4432\n",
            "Epoch 23/100\n",
            "1407/1407 [==============================] - 18s 13ms/step - loss: 1.4024 - accuracy: 0.4973 - val_loss: 1.5922 - val_accuracy: 0.4326\n",
            "Epoch 24/100\n",
            "1407/1407 [==============================] - 18s 13ms/step - loss: 1.3930 - accuracy: 0.4998 - val_loss: 1.5687 - val_accuracy: 0.4318\n",
            "Epoch 25/100\n",
            "1407/1407 [==============================] - 18s 13ms/step - loss: 1.3813 - accuracy: 0.5046 - val_loss: 1.5209 - val_accuracy: 0.4578\n",
            "Epoch 26/100\n",
            "1407/1407 [==============================] - 18s 13ms/step - loss: 1.3709 - accuracy: 0.5090 - val_loss: 1.5621 - val_accuracy: 0.4358\n",
            "Epoch 27/100\n",
            "1407/1407 [==============================] - 18s 13ms/step - loss: 1.3605 - accuracy: 0.5129 - val_loss: 1.5180 - val_accuracy: 0.4590\n",
            "Epoch 28/100\n",
            "1407/1407 [==============================] - 18s 13ms/step - loss: 1.3500 - accuracy: 0.5158 - val_loss: 1.5301 - val_accuracy: 0.4574\n",
            "Epoch 29/100\n",
            "1407/1407 [==============================] - 18s 12ms/step - loss: 1.3428 - accuracy: 0.5176 - val_loss: 1.5406 - val_accuracy: 0.4614\n",
            "Epoch 30/100\n",
            "1407/1407 [==============================] - 18s 13ms/step - loss: 1.3315 - accuracy: 0.5209 - val_loss: 1.5860 - val_accuracy: 0.4488\n",
            "Epoch 31/100\n",
            "1407/1407 [==============================] - 18s 13ms/step - loss: 1.3204 - accuracy: 0.5267 - val_loss: 1.5478 - val_accuracy: 0.4618\n",
            "Epoch 32/100\n",
            "1407/1407 [==============================] - 18s 13ms/step - loss: 1.3110 - accuracy: 0.5300 - val_loss: 1.5481 - val_accuracy: 0.4620\n",
            "Epoch 33/100\n",
            "1407/1407 [==============================] - 17s 12ms/step - loss: 1.3045 - accuracy: 0.5329 - val_loss: 1.5168 - val_accuracy: 0.4684\n",
            "Epoch 34/100\n",
            "1407/1407 [==============================] - 18s 13ms/step - loss: 1.2922 - accuracy: 0.5364 - val_loss: 1.5311 - val_accuracy: 0.4694\n",
            "Epoch 35/100\n",
            "1407/1407 [==============================] - 17s 12ms/step - loss: 1.2831 - accuracy: 0.5382 - val_loss: 1.5272 - val_accuracy: 0.4736\n",
            "Epoch 36/100\n",
            "1407/1407 [==============================] - 17s 12ms/step - loss: 1.2770 - accuracy: 0.5408 - val_loss: 1.5336 - val_accuracy: 0.4704\n",
            "Epoch 37/100\n",
            "1407/1407 [==============================] - 17s 12ms/step - loss: 1.2674 - accuracy: 0.5438 - val_loss: 1.5385 - val_accuracy: 0.4644\n",
            "Epoch 38/100\n",
            "1407/1407 [==============================] - 17s 12ms/step - loss: 1.2594 - accuracy: 0.5471 - val_loss: 1.5446 - val_accuracy: 0.4574\n",
            "Epoch 39/100\n",
            "1407/1407 [==============================] - 17s 12ms/step - loss: 1.2492 - accuracy: 0.5503 - val_loss: 1.5793 - val_accuracy: 0.4548\n",
            "Epoch 40/100\n",
            "1407/1407 [==============================] - 17s 12ms/step - loss: 1.2404 - accuracy: 0.5555 - val_loss: 1.5471 - val_accuracy: 0.4568\n",
            "Epoch 41/100\n",
            "1407/1407 [==============================] - 17s 12ms/step - loss: 1.2335 - accuracy: 0.5588 - val_loss: 1.5384 - val_accuracy: 0.4732\n",
            "Epoch 42/100\n",
            "1407/1407 [==============================] - 17s 12ms/step - loss: 1.2234 - accuracy: 0.5647 - val_loss: 1.5564 - val_accuracy: 0.4638\n",
            "Epoch 43/100\n",
            "1407/1407 [==============================] - 17s 12ms/step - loss: 1.2191 - accuracy: 0.5645 - val_loss: 1.5553 - val_accuracy: 0.4668\n",
            "Epoch 44/100\n",
            "1407/1407 [==============================] - 17s 12ms/step - loss: 1.2068 - accuracy: 0.5694 - val_loss: 1.5364 - val_accuracy: 0.4702\n",
            "Epoch 45/100\n",
            "1407/1407 [==============================] - 17s 12ms/step - loss: 1.1989 - accuracy: 0.5731 - val_loss: 1.5474 - val_accuracy: 0.4774\n",
            "Epoch 46/100\n",
            "1407/1407 [==============================] - 17s 12ms/step - loss: 1.1938 - accuracy: 0.5722 - val_loss: 1.5441 - val_accuracy: 0.4648\n",
            "Epoch 47/100\n",
            "1407/1407 [==============================] - 17s 12ms/step - loss: 1.1832 - accuracy: 0.5754 - val_loss: 1.5290 - val_accuracy: 0.4798\n",
            "Epoch 48/100\n",
            "1407/1407 [==============================] - 18s 13ms/step - loss: 1.1756 - accuracy: 0.5798 - val_loss: 1.5977 - val_accuracy: 0.4538\n",
            "Epoch 49/100\n",
            "1407/1407 [==============================] - 17s 12ms/step - loss: 1.1677 - accuracy: 0.5824 - val_loss: 1.5566 - val_accuracy: 0.4748\n",
            "Epoch 50/100\n",
            "1407/1407 [==============================] - 17s 12ms/step - loss: 1.1627 - accuracy: 0.5852 - val_loss: 1.5589 - val_accuracy: 0.4648\n",
            "Epoch 51/100\n",
            "1407/1407 [==============================] - 17s 12ms/step - loss: 1.1553 - accuracy: 0.5861 - val_loss: 1.5537 - val_accuracy: 0.4762\n",
            "Epoch 52/100\n",
            "1407/1407 [==============================] - 17s 12ms/step - loss: 1.1484 - accuracy: 0.5907 - val_loss: 1.5620 - val_accuracy: 0.4684\n",
            "Epoch 53/100\n",
            "1407/1407 [==============================] - 17s 12ms/step - loss: 1.1395 - accuracy: 0.5907 - val_loss: 1.5549 - val_accuracy: 0.4732\n"
          ]
        },
        {
          "data": {
            "text/plain": [
              "<keras.callbacks.History at 0x7f26c1bfd8d0>"
            ]
          },
          "execution_count": null,
          "metadata": {},
          "output_type": "execute_result"
        }
      ]
    }
  ]
}