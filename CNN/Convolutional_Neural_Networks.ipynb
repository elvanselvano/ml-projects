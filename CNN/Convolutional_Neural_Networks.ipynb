{
  "nbformat": 4,
  "nbformat_minor": 0,
  "metadata": {
    "colab": {
      "name": "Convolutional Neural Networks.ipynb",
      "provenance": []
    },
    "kernelspec": {
      "name": "python3",
      "display_name": "Python 3"
    },
    "language_info": {
      "name": "python"
    },
    "accelerator": "GPU"
  },
  "cells": [
    {
      "cell_type": "markdown",
      "metadata": {
        "id": "cIei1LdaQ8OT"
      },
      "source": [
        "## Convolutional Neural Networks\n",
        "\n",
        "In deep learning, many different kinds of model architectures can be used for different problems. For example, you could use a convolutional neural network for making predictions on image data and/or text data. However, in practice some architectures typically work better than others."
      ]
    },
    {
      "cell_type": "markdown",
      "metadata": {
        "id": "WzNiTkPDRjvv"
      },
      "source": [
        "Categories: Steak and Pizza"
      ]
    },
    {
      "cell_type": "code",
      "metadata": {
        "colab": {
          "base_uri": "https://localhost:8080/"
        },
        "id": "3-91saDLRJs5",
        "outputId": "788b907e-0a56-4eb5-e8e4-badaf062776b"
      },
      "source": [
        "import zipfile\n",
        "\n",
        "# Download zip file of pizza_steak images\n",
        "!wget https://storage.googleapis.com/ztm_tf_course/food_vision/pizza_steak.zip \n",
        "\n",
        "# Unzip the downloaded file\n",
        "zip_ref = zipfile.ZipFile(\"pizza_steak.zip\", \"r\")\n",
        "zip_ref.extractall()\n",
        "zip_ref.close()"
      ],
      "execution_count": null,
      "outputs": [
        {
          "output_type": "stream",
          "text": [
            "--2021-08-30 13:39:07--  https://storage.googleapis.com/ztm_tf_course/food_vision/pizza_steak.zip\n",
            "Resolving storage.googleapis.com (storage.googleapis.com)... 74.125.206.128, 64.233.167.128, 64.233.166.128, ...\n",
            "Connecting to storage.googleapis.com (storage.googleapis.com)|74.125.206.128|:443... connected.\n",
            "HTTP request sent, awaiting response... 200 OK\n",
            "Length: 109579078 (105M) [application/zip]\n",
            "Saving to: ‘pizza_steak.zip’\n",
            "\n",
            "pizza_steak.zip     100%[===================>] 104.50M  47.8MB/s    in 2.2s    \n",
            "\n",
            "2021-08-30 13:39:10 (47.8 MB/s) - ‘pizza_steak.zip’ saved [109579078/109579078]\n",
            "\n"
          ],
          "name": "stdout"
        }
      ]
    },
    {
      "cell_type": "code",
      "metadata": {
        "colab": {
          "base_uri": "https://localhost:8080/"
        },
        "id": "c5wHolocST0q",
        "outputId": "35aea1b6-adea-43cb-f635-e0e434cc750c"
      },
      "source": [
        "!ls pizza_steak"
      ],
      "execution_count": null,
      "outputs": [
        {
          "output_type": "stream",
          "text": [
            "test  train\n"
          ],
          "name": "stdout"
        }
      ]
    },
    {
      "cell_type": "code",
      "metadata": {
        "colab": {
          "base_uri": "https://localhost:8080/"
        },
        "id": "NqMY9Fd_S2gl",
        "outputId": "0f9b65e1-ab58-4842-d89d-28affcc8e4ff"
      },
      "source": [
        "!ls pizza_steak/train/"
      ],
      "execution_count": null,
      "outputs": [
        {
          "output_type": "stream",
          "text": [
            "pizza  steak\n"
          ],
          "name": "stdout"
        }
      ]
    },
    {
      "cell_type": "code",
      "metadata": {
        "colab": {
          "base_uri": "https://localhost:8080/"
        },
        "id": "dNapKTIlS4mT",
        "outputId": "1e001cba-0459-4c8c-e323-724e81c8f48a"
      },
      "source": [
        "!ls pizza_steak/train/steak/"
      ],
      "execution_count": null,
      "outputs": [
        {
          "output_type": "stream",
          "text": [
            "1000205.jpg  1647351.jpg  2238681.jpg  2824680.jpg  3375959.jpg  417368.jpg\n",
            "100135.jpg   1650002.jpg  2238802.jpg  2825100.jpg  3381560.jpg  4176.jpg\n",
            "101312.jpg   165639.jpg   2254705.jpg  2826987.jpg  3382936.jpg  42125.jpg\n",
            "1021458.jpg  1658186.jpg  225990.jpg   2832499.jpg  3386119.jpg  421476.jpg\n",
            "1032846.jpg  1658443.jpg  2260231.jpg  2832960.jpg  3388717.jpg  421561.jpg\n",
            "10380.jpg    165964.jpg   2268692.jpg  285045.jpg   3389138.jpg  438871.jpg\n",
            "1049459.jpg  167069.jpg   2271133.jpg  285147.jpg   3393547.jpg  43924.jpg\n",
            "1053665.jpg  1675632.jpg  227576.jpg   2855315.jpg  3393688.jpg  440188.jpg\n",
            "1068516.jpg  1678108.jpg  2283057.jpg  2856066.jpg  3396589.jpg  442757.jpg\n",
            "1068975.jpg  168006.jpg   2286639.jpg  2859933.jpg  339891.jpg\t 443210.jpg\n",
            "1081258.jpg  1682496.jpg  2287136.jpg  286219.jpg   3417789.jpg  444064.jpg\n",
            "1090122.jpg  1684438.jpg  2291292.jpg  2862562.jpg  3425047.jpg  444709.jpg\n",
            "1093966.jpg  168775.jpg   229323.jpg   2865730.jpg  3434983.jpg  447557.jpg\n",
            "1098844.jpg  1697339.jpg  2300534.jpg  2878151.jpg  3435358.jpg  461187.jpg\n",
            "1100074.jpg  1710569.jpg  2300845.jpg  2880035.jpg  3438319.jpg  461689.jpg\n",
            "1105280.jpg  1714605.jpg  231296.jpg   2881783.jpg  3444407.jpg  465494.jpg\n",
            "1117936.jpg  1724387.jpg  2315295.jpg  2884233.jpg  345734.jpg\t 468384.jpg\n",
            "1126126.jpg  1724717.jpg  2323132.jpg  2890573.jpg  3460673.jpg  477486.jpg\n",
            "114601.jpg   172936.jpg   2324994.jpg  2893832.jpg  3465327.jpg  482022.jpg\n",
            "1147047.jpg  1736543.jpg  2327701.jpg  2893892.jpg  3466159.jpg  482465.jpg\n",
            "1147883.jpg  1736968.jpg  2331076.jpg  2907177.jpg  3469024.jpg  483788.jpg\n",
            "1155665.jpg  1746626.jpg  233964.jpg   290850.jpg   3470083.jpg  493029.jpg\n",
            "1163977.jpg  1752330.jpg  2344227.jpg  2909031.jpg  3476564.jpg  503589.jpg\n",
            "1190233.jpg  1761285.jpg  234626.jpg   2910418.jpg  3478318.jpg  510757.jpg\n",
            "1208405.jpg  176508.jpg   234704.jpg   2912290.jpg  3488748.jpg  513129.jpg\n",
            "1209120.jpg  1772039.jpg  2357281.jpg  2916448.jpg  3492328.jpg  513842.jpg\n",
            "1212161.jpg  1777107.jpg  2361812.jpg  2916967.jpg  3518960.jpg  523535.jpg\n",
            "1213988.jpg  1787505.jpg  2365287.jpg  2927833.jpg  3522209.jpg  525041.jpg\n",
            "1219039.jpg  179293.jpg   2374582.jpg  2928643.jpg  3524429.jpg  534560.jpg\n",
            "1225762.jpg  1816235.jpg  239025.jpg   2929179.jpg  3528458.jpg  534633.jpg\n",
            "1230968.jpg  1822407.jpg  2390628.jpg  2936477.jpg  3531805.jpg  536535.jpg\n",
            "1236155.jpg  1823263.jpg  2392910.jpg  2938012.jpg  3536023.jpg  541410.jpg\n",
            "1241193.jpg  1826066.jpg  2394465.jpg  2938151.jpg  3538682.jpg  543691.jpg\n",
            "1248337.jpg  1828502.jpg  2395127.jpg  2939678.jpg  3540750.jpg  560503.jpg\n",
            "1257104.jpg  1828969.jpg  2396291.jpg  2940544.jpg  354329.jpg\t 561972.jpg\n",
            "126345.jpg   1829045.jpg  2400975.jpg  2940621.jpg  3547166.jpg  56240.jpg\n",
            "1264050.jpg  1829088.jpg  2403776.jpg  2949079.jpg  3553911.jpg  56409.jpg\n",
            "1264154.jpg  1836332.jpg  2403907.jpg  295491.jpg   3556871.jpg  564530.jpg\n",
            "1264858.jpg  1839025.jpg  240435.jpg   296268.jpg   355715.jpg\t 568972.jpg\n",
            "127029.jpg   1839481.jpg  2404695.jpg  2964732.jpg  356234.jpg\t 576725.jpg\n",
            "1289900.jpg  183995.jpg   2404884.jpg  2965021.jpg  3571963.jpg  588739.jpg\n",
            "1290362.jpg  184110.jpg   2407770.jpg  2966859.jpg  3576078.jpg  590142.jpg\n",
            "1295457.jpg  184226.jpg   2412263.jpg  2977966.jpg  3577618.jpg  60633.jpg\n",
            "1312841.jpg  1846706.jpg  2425062.jpg  2979061.jpg  3577732.jpg  60655.jpg\n",
            "1313316.jpg  1849364.jpg  2425389.jpg  2983260.jpg  3578934.jpg  606820.jpg\n",
            "1324791.jpg  1849463.jpg  2435316.jpg  2984311.jpg  358042.jpg\t 612551.jpg\n",
            "1327567.jpg  1849542.jpg  2437268.jpg  2988960.jpg  358045.jpg\t 614975.jpg\n",
            "1327667.jpg  1853564.jpg  2437843.jpg  2989882.jpg  3591821.jpg  616809.jpg\n",
            "1333055.jpg  1869467.jpg  2440131.jpg  2995169.jpg  359330.jpg\t 628628.jpg\n",
            "1334054.jpg  1870942.jpg  2443168.jpg  2996324.jpg  3601483.jpg  632427.jpg\n",
            "1335556.jpg  187303.jpg   2446660.jpg  3000131.jpg  3606642.jpg  636594.jpg\n",
            "1337814.jpg  187521.jpg   2455944.jpg  3002350.jpg  3609394.jpg  637374.jpg\n",
            "1340977.jpg  1888450.jpg  2458401.jpg  3007772.jpg  361067.jpg\t 640539.jpg\n",
            "1343209.jpg  1889336.jpg  2487306.jpg  3008192.jpg  3613455.jpg  644777.jpg\n",
            "134369.jpg   1907039.jpg  248841.jpg   3009617.jpg  3621464.jpg  644867.jpg\n",
            "1344105.jpg  1925230.jpg  2489716.jpg  3011642.jpg  3621562.jpg  658189.jpg\n",
            "134598.jpg   1927984.jpg  2490489.jpg  3020591.jpg  3621565.jpg  660900.jpg\n",
            "1346387.jpg  1930577.jpg  2495884.jpg  3030578.jpg  3623556.jpg  663014.jpg\n",
            "1348047.jpg  1937872.jpg  2495903.jpg  3047807.jpg  3640915.jpg  664545.jpg\n",
            "1351372.jpg  1941807.jpg  2499364.jpg  3059843.jpg  3643951.jpg  667075.jpg\n",
            "1362989.jpg  1942333.jpg  2500292.jpg  3074367.jpg  3653129.jpg  669180.jpg\n",
            "1367035.jpg  1945132.jpg  2509017.jpg  3082120.jpg  3656752.jpg  669960.jpg\n",
            "1371177.jpg  1961025.jpg  250978.jpg   3094354.jpg  3663518.jpg  6709.jpg\n",
            "1375640.jpg  1966300.jpg  2514432.jpg  3095301.jpg  3663800.jpg  674001.jpg\n",
            "1382427.jpg  1966967.jpg  2526838.jpg  3099645.jpg  3664376.jpg  676189.jpg\n",
            "1392718.jpg  1969596.jpg  252858.jpg   3100476.jpg  3670607.jpg  681609.jpg\n",
            "1395906.jpg  1971757.jpg  2532239.jpg  3110387.jpg  3671021.jpg  6926.jpg\n",
            "1400760.jpg  1976160.jpg  2534567.jpg  3113772.jpg  3671877.jpg  703556.jpg\n",
            "1403005.jpg  1984271.jpg  2535431.jpg  3116018.jpg  368073.jpg\t 703909.jpg\n",
            "1404770.jpg  1987213.jpg  2535456.jpg  3128952.jpg  368162.jpg\t 704316.jpg\n",
            "140832.jpg   1987639.jpg  2538000.jpg  3130412.jpg  368170.jpg\t 714298.jpg\n",
            "141056.jpg   1995118.jpg  2543081.jpg  3136.jpg     3693649.jpg  720060.jpg\n",
            "141135.jpg   1995252.jpg  2544643.jpg  313851.jpg   3700079.jpg  726083.jpg\n",
            "1413972.jpg  199754.jpg   2547797.jpg  3140083.jpg  3704103.jpg  728020.jpg\n",
            "1421393.jpg  2002400.jpg  2548974.jpg  3140147.jpg  3707493.jpg  732986.jpg\n",
            "1428947.jpg  2011264.jpg  2549316.jpg  3142045.jpg  3716881.jpg  734445.jpg\n",
            "1433912.jpg  2012996.jpg  2561199.jpg  3142618.jpg  3724677.jpg  735441.jpg\n",
            "143490.jpg   2013535.jpg  2563233.jpg  3142674.jpg  3727036.jpg  740090.jpg\n",
            "1445352.jpg  2017387.jpg  256592.jpg   3143192.jpg  3727491.jpg  745189.jpg\n",
            "1446401.jpg  2018173.jpg  2568848.jpg  314359.jpg   3736065.jpg  752203.jpg\n",
            "1453991.jpg  2020613.jpg  2573392.jpg  3157832.jpg  37384.jpg\t 75537.jpg\n",
            "1456841.jpg  2032669.jpg  2592401.jpg  3159818.jpg  3743286.jpg  756655.jpg\n",
            "146833.jpg   203450.jpg   2599817.jpg  3162376.jpg  3745515.jpg  762210.jpg\n",
            "1476404.jpg  2034628.jpg  2603058.jpg  3168620.jpg  3750472.jpg  763690.jpg\n",
            "1485083.jpg  2036920.jpg  2606444.jpg  3171085.jpg  3752362.jpg  767442.jpg\n",
            "1487113.jpg  2038418.jpg  2614189.jpg  317206.jpg   3766099.jpg  786409.jpg\n",
            "148916.jpg   2042975.jpg  2614649.jpg  3173444.jpg  3770370.jpg  80215.jpg\n",
            "149087.jpg   2045647.jpg  2615718.jpg  3180182.jpg  377190.jpg\t 802348.jpg\n",
            "1493169.jpg  2050584.jpg  2619625.jpg  31881.jpg    3777020.jpg  804684.jpg\n",
            "149682.jpg   2052542.jpg  2622140.jpg  3191589.jpg  3777482.jpg  812163.jpg\n",
            "1508094.jpg  2056627.jpg  262321.jpg   3204977.jpg  3781152.jpg  813486.jpg\n",
            "1512226.jpg  2062248.jpg  2625330.jpg  320658.jpg   3787809.jpg  819027.jpg\n",
            "1512347.jpg  2081995.jpg  2628106.jpg  3209173.jpg  3788729.jpg  822550.jpg\n",
            "1524526.jpg  2087958.jpg  2629750.jpg  3223400.jpg  3790962.jpg  823766.jpg\n",
            "1530833.jpg  2088030.jpg  2643906.jpg  3223601.jpg  3792514.jpg  827764.jpg\n",
            "1539499.jpg  2088195.jpg  2644457.jpg  3241894.jpg  379737.jpg\t 830007.jpg\n",
            "1541672.jpg  2090493.jpg  2648423.jpg  3245533.jpg  3807440.jpg  838344.jpg\n",
            "1548239.jpg  2090504.jpg  2651300.jpg  3245622.jpg  381162.jpg\t 853327.jpg\n",
            "1550997.jpg  2125877.jpg  2653594.jpg  3247009.jpg  3812039.jpg  854150.jpg\n",
            "1552530.jpg  2129685.jpg  2661577.jpg  3253588.jpg  3829392.jpg  864997.jpg\n",
            "15580.jpg    2133717.jpg  2668916.jpg  3260624.jpg  3830872.jpg  885571.jpg\n",
            "1559052.jpg  2136662.jpg  268444.jpg   326587.jpg   38442.jpg\t 907107.jpg\n",
            "1563266.jpg  213765.jpg   2691461.jpg  32693.jpg    3855584.jpg  908261.jpg\n",
            "1567554.jpg  2138335.jpg  2706403.jpg  3271253.jpg  3857508.jpg  910672.jpg\n",
            "1575322.jpg  2140776.jpg  270687.jpg   3274423.jpg  386335.jpg\t 911803.jpg\n",
            "1588879.jpg  214320.jpg   2707522.jpg  3280453.jpg  3867460.jpg  91432.jpg\n",
            "1594719.jpg  2146963.jpg  2711806.jpg  3298495.jpg  3868959.jpg  914570.jpg\n",
            "1595869.jpg  215222.jpg   2716993.jpg  330182.jpg   3869679.jpg  922752.jpg\n",
            "1598345.jpg  2154126.jpg  2724554.jpg  3306627.jpg  388776.jpg\t 923772.jpg\n",
            "1598885.jpg  2154779.jpg  2738227.jpg  3315727.jpg  3890465.jpg  926414.jpg\n",
            "1600179.jpg  2159975.jpg  2748917.jpg  331860.jpg   3894222.jpg  931356.jpg\n",
            "1600794.jpg  2163079.jpg  2760475.jpg  332232.jpg   3895825.jpg  937133.jpg\n",
            "160552.jpg   217250.jpg   2761427.jpg  3322909.jpg  389739.jpg\t 945791.jpg\n",
            "1606596.jpg  2172600.jpg  2765887.jpg  332557.jpg   3916407.jpg  947877.jpg\n",
            "1615395.jpg  2173084.jpg  2768451.jpg  3326734.jpg  393349.jpg\t 952407.jpg\n",
            "1618011.jpg  217996.jpg   2771149.jpg  3330642.jpg  393494.jpg\t 952437.jpg\n",
            "1619357.jpg  2193684.jpg  2779040.jpg  3333128.jpg  398288.jpg\t 955466.jpg\n",
            "1621763.jpg  220341.jpg   2788312.jpg  3333735.jpg  40094.jpg\t 9555.jpg\n",
            "1623325.jpg  22080.jpg\t  2788759.jpg  3334973.jpg  401094.jpg\t 961341.jpg\n",
            "1624450.jpg  2216146.jpg  2796102.jpg  3335013.jpg  401144.jpg\t 97656.jpg\n",
            "1624747.jpg  2222018.jpg  280284.jpg   3335267.jpg  401651.jpg\t 979110.jpg\n",
            "1628861.jpg  2223787.jpg  2807888.jpg  3346787.jpg  405173.jpg\t 980247.jpg\n",
            "1632774.jpg  2230959.jpg  2815172.jpg  3364420.jpg  405794.jpg\t 982988.jpg\n",
            "1636831.jpg  2232310.jpg  2818805.jpg  336637.jpg   40762.jpg\t 987732.jpg\n",
            "1645470.jpg  2233395.jpg  2823872.jpg  3372616.jpg  413325.jpg\t 996684.jpg\n"
          ],
          "name": "stdout"
        }
      ]
    },
    {
      "cell_type": "code",
      "metadata": {
        "colab": {
          "base_uri": "https://localhost:8080/"
        },
        "id": "TfyjaxYlTF1w",
        "outputId": "dee220c5-05f2-466c-e827-aff7471aefc2"
      },
      "source": [
        "import os\n",
        "\n",
        "# Walk through pizza_steak directory and list number of files\n",
        "for dirpath, dirnames, filenames in os.walk(\"pizza_steak\"):\n",
        "  print(f\"There are {len(dirnames)} directories and {len(filenames)} images in '{dirpath}'.\")"
      ],
      "execution_count": null,
      "outputs": [
        {
          "output_type": "stream",
          "text": [
            "There are 2 directories and 1 images in 'pizza_steak'.\n",
            "There are 2 directories and 1 images in 'pizza_steak/test'.\n",
            "There are 0 directories and 250 images in 'pizza_steak/test/pizza'.\n",
            "There are 0 directories and 250 images in 'pizza_steak/test/steak'.\n",
            "There are 2 directories and 1 images in 'pizza_steak/train'.\n",
            "There are 0 directories and 750 images in 'pizza_steak/train/pizza'.\n",
            "There are 0 directories and 750 images in 'pizza_steak/train/steak'.\n"
          ],
          "name": "stdout"
        }
      ]
    },
    {
      "cell_type": "code",
      "metadata": {
        "colab": {
          "base_uri": "https://localhost:8080/"
        },
        "id": "qsP7kB1rTTm7",
        "outputId": "6e51b897-bad9-489f-9117-38acd0223144"
      },
      "source": [
        "# Get the class names (programmatically, this is much more helpful with a longer list of classes)\n",
        "import pathlib\n",
        "import numpy as np\n",
        "data_dir = pathlib.Path(\"pizza_steak/train/\") # turn our training path into a Python path\n",
        "class_names = np.array(sorted([item.name for item in data_dir.glob('*')])) # created a list of class_names from the subdirectories\n",
        "print(class_names)"
      ],
      "execution_count": null,
      "outputs": [
        {
          "output_type": "stream",
          "text": [
            "['.DS_Store' 'pizza' 'steak']\n"
          ],
          "name": "stdout"
        }
      ]
    },
    {
      "cell_type": "code",
      "metadata": {
        "id": "VgbosDCsTghm"
      },
      "source": [
        "# View an image\n",
        "import matplotlib.pyplot as plt\n",
        "import matplotlib.image as mpimg\n",
        "import random\n",
        "\n",
        "def view_random_image(target_dir, target_class):\n",
        "  # Setup target directory (we'll view images from here)\n",
        "  target_folder = target_dir+target_class\n",
        "\n",
        "  # Get a random image path\n",
        "  random_image = random.sample(os.listdir(target_folder), 1)\n",
        "\n",
        "  # Read in the image and plot it using matplotlib\n",
        "  img = mpimg.imread(target_folder + \"/\" + random_image[0])\n",
        "  plt.imshow(img)\n",
        "  plt.title(target_class)\n",
        "  plt.axis(\"off\");\n",
        "\n",
        "  print(f\"Image shape: {img.shape}\") # show the shape of the image\n",
        "\n",
        "  return img"
      ],
      "execution_count": null,
      "outputs": []
    },
    {
      "cell_type": "code",
      "metadata": {
        "colab": {
          "base_uri": "https://localhost:8080/"
        },
        "id": "ZCtzAROBTw5T",
        "outputId": "22959676-191c-4d3b-a7ee-9b84b068eb8f"
      },
      "source": [
        "img = view_random_image(target_dir='pizza_steak/train/',\n",
        "                        target_class='steak')"
      ],
      "execution_count": null,
      "outputs": [
        {
          "output_type": "stream",
          "text": [
            "Image shape: (512, 512, 3)\n"
          ],
          "name": "stdout"
        },
        {
          "output_type": "display_data",
          "data": {
            "image/png": "[encoded data removed]",
            "text/plain": [
              "<Figure size 432x288 with 1 Axes>"
            ]
          },
          "metadata": {
            "needs_background": "light"
          }
        }
      ]
    },
    {
      "cell_type": "code",
      "metadata": {
        "colab": {
          "base_uri": "https://localhost:8080/"
        },
        "id": "qKao5F5zT4VQ",
        "outputId": "5991340c-ec5b-439a-d26d-017e7725363f"
      },
      "source": [
        "img"
      ],
      "execution_count": null,
      "outputs": [
        {
          "output_type": "execute_result",
          "data": {
            "text/plain": [
              "array([[[248, 212, 162],\n",
              "        [249, 213, 161],\n",
              "        [246, 210, 158],\n",
              "        ...,\n",
              "        [145,  73,  49],\n",
              "        [139,  67,  45],\n",
              "        [140,  65,  46]],\n",
              "\n",
              "       [[253, 220, 167],\n",
              "        [254, 221, 168],\n",
              "        [254, 221, 167],\n",
              "        ...,\n",
              "        [152,  80,  56],\n",
              "        [146,  74,  52],\n",
              "        [141,  66,  47]],\n",
              "\n",
              "       [[254, 221, 167],\n",
              "        [255, 222, 168],\n",
              "        [255, 225, 168],\n",
              "        ...,\n",
              "        [159,  87,  63],\n",
              "        [153,  81,  59],\n",
              "        [142,  70,  48]],\n",
              "\n",
              "       ...,\n",
              "\n",
              "       [[225, 169, 120],\n",
              "        [222, 166, 117],\n",
              "        [221, 165, 116],\n",
              "        ...,\n",
              "        [189, 136, 118],\n",
              "        [187, 131, 114],\n",
              "        [187, 131, 114]],\n",
              "\n",
              "       [[227, 171, 122],\n",
              "        [223, 167, 118],\n",
              "        [222, 166, 117],\n",
              "        ...,\n",
              "        [195, 139, 126],\n",
              "        [187, 131, 116],\n",
              "        [195, 139, 124]],\n",
              "\n",
              "       [[221, 165, 116],\n",
              "        [219, 163, 114],\n",
              "        [222, 166, 117],\n",
              "        ...,\n",
              "        [186, 129, 118],\n",
              "        [173, 117, 104],\n",
              "        [185, 129, 116]]], dtype=uint8)"
            ]
          },
          "metadata": {},
          "execution_count": 9
        }
      ]
    },
    {
      "cell_type": "code",
      "metadata": {
        "colab": {
          "base_uri": "https://localhost:8080/"
        },
        "id": "ZqgNtkGJUHZ9",
        "outputId": "c3a0ca5a-b376-43c0-8146-7ba3ca670ac2"
      },
      "source": [
        "# Looking at the image shape more closely, \n",
        "# you'll see it's in the form (Width, Height, Colour Channels).\n",
        "img.shape"
      ],
      "execution_count": null,
      "outputs": [
        {
          "output_type": "execute_result",
          "data": {
            "text/plain": [
              "(512, 512, 3)"
            ]
          },
          "metadata": {},
          "execution_count": 10
        }
      ]
    },
    {
      "cell_type": "markdown",
      "metadata": {
        "id": "7NrUxXV4Umr-"
      },
      "source": [
        "Neural networks prefer the values they work with to be between 0 and 1. Knowing this, one of the most common preprocessing steps for working with images is to scale (also referred to as normalize) their pixel values by dividing the image arrays by 255."
      ]
    },
    {
      "cell_type": "code",
      "metadata": {
        "colab": {
          "base_uri": "https://localhost:8080/"
        },
        "id": "Lz2Qs2liUH70",
        "outputId": "b8cfcfc1-59f3-4b4c-a3fb-2a4ede7d7c80"
      },
      "source": [
        "# Get all the pixel values between 0 & 1\n",
        "img/255."
      ],
      "execution_count": null,
      "outputs": [
        {
          "output_type": "execute_result",
          "data": {
            "text/plain": [
              "array([[[0.97254902, 0.83137255, 0.63529412],\n",
              "        [0.97647059, 0.83529412, 0.63137255],\n",
              "        [0.96470588, 0.82352941, 0.61960784],\n",
              "        ...,\n",
              "        [0.56862745, 0.28627451, 0.19215686],\n",
              "        [0.54509804, 0.2627451 , 0.17647059],\n",
              "        [0.54901961, 0.25490196, 0.18039216]],\n",
              "\n",
              "       [[0.99215686, 0.8627451 , 0.65490196],\n",
              "        [0.99607843, 0.86666667, 0.65882353],\n",
              "        [0.99607843, 0.86666667, 0.65490196],\n",
              "        ...,\n",
              "        [0.59607843, 0.31372549, 0.21960784],\n",
              "        [0.57254902, 0.29019608, 0.20392157],\n",
              "        [0.55294118, 0.25882353, 0.18431373]],\n",
              "\n",
              "       [[0.99607843, 0.86666667, 0.65490196],\n",
              "        [1.        , 0.87058824, 0.65882353],\n",
              "        [1.        , 0.88235294, 0.65882353],\n",
              "        ...,\n",
              "        [0.62352941, 0.34117647, 0.24705882],\n",
              "        [0.6       , 0.31764706, 0.23137255],\n",
              "        [0.55686275, 0.2745098 , 0.18823529]],\n",
              "\n",
              "       ...,\n",
              "\n",
              "       [[0.88235294, 0.6627451 , 0.47058824],\n",
              "        [0.87058824, 0.65098039, 0.45882353],\n",
              "        [0.86666667, 0.64705882, 0.45490196],\n",
              "        ...,\n",
              "        [0.74117647, 0.53333333, 0.4627451 ],\n",
              "        [0.73333333, 0.51372549, 0.44705882],\n",
              "        [0.73333333, 0.51372549, 0.44705882]],\n",
              "\n",
              "       [[0.89019608, 0.67058824, 0.47843137],\n",
              "        [0.8745098 , 0.65490196, 0.4627451 ],\n",
              "        [0.87058824, 0.65098039, 0.45882353],\n",
              "        ...,\n",
              "        [0.76470588, 0.54509804, 0.49411765],\n",
              "        [0.73333333, 0.51372549, 0.45490196],\n",
              "        [0.76470588, 0.54509804, 0.48627451]],\n",
              "\n",
              "       [[0.86666667, 0.64705882, 0.45490196],\n",
              "        [0.85882353, 0.63921569, 0.44705882],\n",
              "        [0.87058824, 0.65098039, 0.45882353],\n",
              "        ...,\n",
              "        [0.72941176, 0.50588235, 0.4627451 ],\n",
              "        [0.67843137, 0.45882353, 0.40784314],\n",
              "        [0.7254902 , 0.50588235, 0.45490196]]])"
            ]
          },
          "metadata": {},
          "execution_count": 11
        }
      ]
    },
    {
      "cell_type": "markdown",
      "metadata": {
        "id": "X4CJWxu-U22m"
      },
      "source": [
        "## Typical Architecture of CNN"
      ]
    },
    {
      "cell_type": "markdown",
      "metadata": {
        "id": "F7BxHqfeVDOf"
      },
      "source": [
        "* Input image(s): Target images you'd like to discover patterns in\n",
        "* Input layer: Takes in target images and preprocesses them for further layers, input_shape = [batch_size, image_height, image_width, color_channels]\n",
        "* Convolution layer: Extracts/learns the most important features from target images tf.keras.layers.ConvXD (X can be multiple values)\n",
        "* Hidden activation: Adds non-linearity to learned features (non-straight lines) (tf.keras.activations.relu)\n",
        "* Pooling layer: Reduces the dimensionality of learned image features Average (tf.keras.layers.AvgPool2D) or Max (tf.keras.layers.MaxPool2D)\n",
        "* Fully connected layer: Further refines learned features from convolution layers (tf.keras.layers.Dense)\n",
        "* Output layer: Takes learned features and outputs them in shape of target labels, output_shape = [number_of_classes]\n",
        "* Output activation: Adds non-linearities to output layer (tf.keras.activations.sigmoid (binary classification) or tf.keras.activations.softmax)\n"
      ]
    },
    {
      "cell_type": "markdown",
      "metadata": {
        "id": "OtEpEBuhepH0"
      },
      "source": [
        "`.flow_from_directory`:\n",
        "* Due to how our directories are structured, the classes get inferred by the subdirectory names in train_dir and test_dir.\n",
        "* The target_size parameter defines the input size of our images in (height, width) format.\n",
        "* The class_mode value of 'binary' defines our classification problem type. If we had more than two classes, we would use 'categorical'.\n",
        "* The batch_size defines how many images will be in each batch, we've used 32 which is the same as the default."
      ]
    },
    {
      "cell_type": "code",
      "metadata": {
        "colab": {
          "base_uri": "https://localhost:8080/"
        },
        "id": "4a1VuDzXU2cS",
        "outputId": "d695c140-d2b9-47e5-ff7e-841dbfef3abe"
      },
      "source": [
        "import tensorflow as tf\n",
        "from tensorflow.keras.preprocessing.image import ImageDataGenerator\n",
        "\n",
        "# Set the seed\n",
        "tf.random.set_seed(42)\n",
        "\n",
        "# Preprocess data (get all of the pixel values between 1 and 0, also called scaling/normalization)\n",
        "train_datagen = ImageDataGenerator(rescale=1./255)\n",
        "valid_datagen = ImageDataGenerator(rescale=1./255)\n",
        "\n",
        "# Setup the train and test directories\n",
        "train_dir = \"pizza_steak/train/\"\n",
        "test_dir = \"pizza_steak/test/\"\n",
        "\n",
        "# Import data from directories and turn it into batches\n",
        "train_data = train_datagen.flow_from_directory(train_dir,\n",
        "                                               batch_size=32, # number of images to process at a time \n",
        "                                               target_size=(224, 224), # convert all images to be 224 x 224\n",
        "                                               class_mode=\"binary\", # type of problem we're working on\n",
        "                                               seed=42)\n",
        "\n",
        "valid_data = valid_datagen.flow_from_directory(test_dir,\n",
        "                                               batch_size=32,\n",
        "                                               target_size=(224, 224),\n",
        "                                               class_mode=\"binary\",\n",
        "                                               seed=42)\n",
        "\n",
        "# Create a CNN model (same as Tiny VGG - https://poloclub.github.io/cnn-explainer/)\n",
        "model_1 = tf.keras.models.Sequential([\n",
        "    tf.keras.layers.Conv2D(filters=10, \n",
        "                         kernel_size=3, # can also be (3, 3)\n",
        "                         activation=\"relu\", \n",
        "                         input_shape=(224, 224, 3)), # first layer specifies input shape (height, width, colour channels)\n",
        "    tf.keras.layers.Conv2D(10, 3, activation=\"relu\"),\n",
        "    tf.keras.layers.MaxPool2D(pool_size=2, # pool_size can also be (2, 2)\n",
        "                            padding=\"valid\"), # padding can also be 'same' \n",
        "    tf.keras.layers.Conv2D(10, 3, activation=\"relu\"),\n",
        "    tf.keras.layers.Conv2D(10, 3, activation=\"relu\"), # activation='relu' == tf.keras.layers.Activations(tf.nn.relu)\n",
        "    tf.keras.layers.MaxPool2D(2),\n",
        "    tf.keras.layers.Flatten(),\n",
        "    tf.keras.layers.Dense(1, activation=\"sigmoid\") # binary activation output\n",
        "]) \n",
        "\n",
        "# Compile the model\n",
        "model_1.compile(loss=\"binary_crossentropy\",\n",
        "              optimizer=tf.keras.optimizers.Adam(),\n",
        "              metrics=[\"accuracy\"])\n",
        "\n",
        "# Fit the model\n",
        "history_1 = model_1.fit(train_data,\n",
        "                        epochs=5,\n",
        "                        steps_per_epoch=len(train_data),\n",
        "                        validation_data=valid_data,\n",
        "                        validation_steps=len(valid_data))"
      ],
      "execution_count": null,
      "outputs": [
        {
          "output_type": "stream",
          "text": [
            "Found 1500 images belonging to 2 classes.\n",
            "Found 500 images belonging to 2 classes.\n",
            "Epoch 1/5\n",
            "47/47 [==============================] - 42s 261ms/step - loss: 0.5626 - accuracy: 0.7060 - val_loss: 0.3838 - val_accuracy: 0.8420\n",
            "Epoch 2/5\n",
            "47/47 [==============================] - 11s 241ms/step - loss: 0.4231 - accuracy: 0.8147 - val_loss: 0.3276 - val_accuracy: 0.8720\n",
            "Epoch 3/5\n",
            "47/47 [==============================] - 11s 241ms/step - loss: 0.4026 - accuracy: 0.8253 - val_loss: 0.3836 - val_accuracy: 0.8280\n",
            "Epoch 4/5\n",
            "47/47 [==============================] - 11s 244ms/step - loss: 0.3614 - accuracy: 0.8400 - val_loss: 0.3093 - val_accuracy: 0.8780\n",
            "Epoch 5/5\n",
            "47/47 [==============================] - 11s 241ms/step - loss: 0.3242 - accuracy: 0.8700 - val_loss: 0.3086 - val_accuracy: 0.8680\n"
          ],
          "name": "stdout"
        }
      ]
    },
    {
      "cell_type": "markdown",
      "metadata": {
        "id": "HVM75hnXgMWT"
      },
      "source": [
        "`.fit`:\n",
        "* steps_per_epoch - this is the number of batches a model will go through per epoch, in our case, we want our model to go through all batches so it's equal to the length of train_data (1500 images in batches of 32 = 1500/32 = ~47 steps)\n",
        "* validation_steps - same as above, except for the validation_data parameter (500 test images in batches of 32 = 500/32 = ~16 steps)"
      ]
    },
    {
      "cell_type": "markdown",
      "metadata": {
        "id": "naq9MAKWfoSF"
      },
      "source": [
        "`.Conv2D layer`:\n",
        "* The \"2D\" means our inputs are two dimensional (height and width), even though they have 3 colour channels, the convolutions are run on each channel invididually.\n",
        "* filters - these are the number of \"feature extractors\" that will be moving over our images.\n",
        "* kernel_size - the size of our filters, for example, a kernel_size of (3, 3) (or just 3) will mean each filter will have the size 3x3, meaning it will look at a space of 3x3 pixels each time. The smaller the kernel, the more fine-grained features it will extract.\n",
        "* stride - the number of pixels a filter will move across as it covers the image. A stride of 1 means the filter moves across each pixel 1 by 1. A stride of 2 means it moves 2 pixels at a time.\n",
        "* padding - this can be either 'same' or 'valid', 'same' adds zeros the to outside of the image so the resulting output of the convolutional layer is the same as the input, where as 'valid' (default) cuts off excess pixels where the filter doesn't fit (e.g. 224 pixels wide divided by a kernel size of 3 (224/3 = 74.6) means a single pixel will get cut off the end."
      ]
    },
    {
      "cell_type": "code",
      "metadata": {
        "colab": {
          "base_uri": "https://localhost:8080/"
        },
        "id": "pW2Tm-kCcN_J",
        "outputId": "7768cc93-04e2-43ac-b3b7-37596635c0b7"
      },
      "source": [
        "# Check out the layers in our model\n",
        "model_1.summary()"
      ],
      "execution_count": null,
      "outputs": [
        {
          "output_type": "stream",
          "text": [
            "Model: \"sequential\"\n",
            "_________________________________________________________________\n",
            "Layer (type)                 Output Shape              Param #   \n",
            "=================================================================\n",
            "conv2d (Conv2D)              (None, 222, 222, 10)      280       \n",
            "_________________________________________________________________\n",
            "conv2d_1 (Conv2D)            (None, 220, 220, 10)      910       \n",
            "_________________________________________________________________\n",
            "max_pooling2d (MaxPooling2D) (None, 110, 110, 10)      0         \n",
            "_________________________________________________________________\n",
            "conv2d_2 (Conv2D)            (None, 108, 108, 10)      910       \n",
            "_________________________________________________________________\n",
            "conv2d_3 (Conv2D)            (None, 106, 106, 10)      910       \n",
            "_________________________________________________________________\n",
            "max_pooling2d_1 (MaxPooling2 (None, 53, 53, 10)        0         \n",
            "_________________________________________________________________\n",
            "flatten (Flatten)            (None, 28090)             0         \n",
            "_________________________________________________________________\n",
            "dense (Dense)                (None, 1)                 28091     \n",
            "=================================================================\n",
            "Total params: 31,101\n",
            "Trainable params: 31,101\n",
            "Non-trainable params: 0\n",
            "_________________________________________________________________\n"
          ],
          "name": "stdout"
        }
      ]
    },
    {
      "cell_type": "code",
      "metadata": {
        "colab": {
          "base_uri": "https://localhost:8080/"
        },
        "id": "-3EvpPticO3u",
        "outputId": "0334b4f1-39e1-46f8-9b73-8b8adb229526"
      },
      "source": [
        "# Set random seed\n",
        "tf.random.set_seed(42)\n",
        "\n",
        "model_2 = tf.keras.Sequential([\n",
        "    tf.keras.layers.Flatten(input_shape=(224, 224, 3)), # dense layers expect a 1-dimensional vector as input\n",
        "    tf.keras.layers.Dense(4, activation='relu'),\n",
        "    tf.keras.layers.Dense(4, activation='relu'),\n",
        "    tf.keras.layers.Dense(1, activation='sigmoid')\n",
        "])                        \n",
        "\n",
        "# Compile the model\n",
        "model_2.compile(loss='binary_crossentropy',\n",
        "              optimizer=tf.keras.optimizers.Adam(),\n",
        "              metrics=[\"accuracy\"])\n",
        "\n",
        "# Fit the model\n",
        "history_2 = model_2.fit(train_data, # use same training data created above\n",
        "                        epochs=5,\n",
        "                        steps_per_epoch=len(train_data),\n",
        "                        validation_data=valid_data, # use same validation data created above\n",
        "                        validation_steps=len(valid_data))\n",
        "\n",
        "# It only reaches 50% accuracy on the training and test sets which \n",
        "# in a binary classification problem is as good as guessing."
      ],
      "execution_count": null,
      "outputs": [
        {
          "output_type": "stream",
          "text": [
            "Epoch 1/5\n",
            "47/47 [==============================] - 10s 208ms/step - loss: 1.9355 - accuracy: 0.5013 - val_loss: 0.6932 - val_accuracy: 0.5000\n",
            "Epoch 2/5\n",
            "47/47 [==============================] - 9s 203ms/step - loss: 0.6932 - accuracy: 0.5000 - val_loss: 0.6932 - val_accuracy: 0.5000\n",
            "Epoch 3/5\n",
            "47/47 [==============================] - 9s 201ms/step - loss: 0.6932 - accuracy: 0.5000 - val_loss: 0.6932 - val_accuracy: 0.5000\n",
            "Epoch 4/5\n",
            "47/47 [==============================] - 9s 201ms/step - loss: 0.6932 - accuracy: 0.4933 - val_loss: 0.6931 - val_accuracy: 0.5000\n",
            "Epoch 5/5\n",
            "47/47 [==============================] - 9s 201ms/step - loss: 0.6932 - accuracy: 0.5000 - val_loss: 0.6931 - val_accuracy: 0.5000\n"
          ],
          "name": "stdout"
        }
      ]
    },
    {
      "cell_type": "code",
      "metadata": {
        "colab": {
          "base_uri": "https://localhost:8080/"
        },
        "id": "kV4vnTpOdRqh",
        "outputId": "41575c6b-57d6-46c3-853f-283717e97caa"
      },
      "source": [
        "# Check out our second model's architecture\n",
        "model_2.summary()"
      ],
      "execution_count": null,
      "outputs": [
        {
          "output_type": "stream",
          "text": [
            "Model: \"sequential_1\"\n",
            "_________________________________________________________________\n",
            "Layer (type)                 Output Shape              Param #   \n",
            "=================================================================\n",
            "flatten_1 (Flatten)          (None, 150528)            0         \n",
            "_________________________________________________________________\n",
            "dense_1 (Dense)              (None, 4)                 602116    \n",
            "_________________________________________________________________\n",
            "dense_2 (Dense)              (None, 4)                 20        \n",
            "_________________________________________________________________\n",
            "dense_3 (Dense)              (None, 1)                 5         \n",
            "=================================================================\n",
            "Total params: 602,141\n",
            "Trainable params: 602,141\n",
            "Non-trainable params: 0\n",
            "_________________________________________________________________\n"
          ],
          "name": "stdout"
        }
      ]
    },
    {
      "cell_type": "markdown",
      "metadata": {
        "id": "qHB3Xj9zdiEm"
      },
      "source": [
        "model_2 has 602,141 trainable parameters where as model_1 has only 31,101. And despite this difference, model_1 still far and large out performs model_2. \n",
        "\n",
        "You can think of trainable parameters as patterns a model can learn from data. Intuitively, you might think more is better. And in some cases it is. But in this case, the difference here is in the two different styles of model we're using. Where a series of dense layers have a number of different learnable parameters connected to each other and hence a higher number of possible learnable patterns, a convolutional neural network seeks to sort out and learn the most important patterns in an image. So even though there are less learnable parameters in our convolutional neural network, these are often more helpful in decphering between different features in an image."
      ]
    },
    {
      "cell_type": "code",
      "metadata": {
        "colab": {
          "base_uri": "https://localhost:8080/"
        },
        "id": "xYFJ-tMVdSXZ",
        "outputId": "4ab2c60c-1825-4afd-b6a3-9132fa360e83"
      },
      "source": [
        "# Set random seed\n",
        "tf.random.set_seed(42)\n",
        "\n",
        "# Create a model similar to model_1 but add an extra layer and increase the number of hidden units in each layer\n",
        "model_3 = tf.keras.Sequential([\n",
        "  tf.keras.layers.Flatten(input_shape=(224, 224, 3)), # dense layers expect a 1-dimensional vector as input\n",
        "  tf.keras.layers.Dense(100, activation='relu'), # increase number of neurons from 4 to 100 (for each layer)\n",
        "  tf.keras.layers.Dense(100, activation='relu'),\n",
        "  tf.keras.layers.Dense(100, activation='relu'), # add an extra layer\n",
        "  tf.keras.layers.Dense(1, activation='sigmoid')\n",
        "])\n",
        "\n",
        "# Compile the model\n",
        "model_3.compile(loss='binary_crossentropy',\n",
        "              optimizer=tf.keras.optimizers.Adam(),\n",
        "              metrics=[\"accuracy\"])\n",
        "\n",
        "# Fit the model\n",
        "history_3 = model_3.fit(train_data,\n",
        "                        epochs=5,\n",
        "                        steps_per_epoch=len(train_data),\n",
        "                        validation_data=valid_data,\n",
        "                        validation_steps=len(valid_data))"
      ],
      "execution_count": null,
      "outputs": [
        {
          "output_type": "stream",
          "text": [
            "Epoch 1/5\n",
            "47/47 [==============================] - 11s 214ms/step - loss: 1.9967 - accuracy: 0.6473 - val_loss: 0.7914 - val_accuracy: 0.6820\n",
            "Epoch 2/5\n",
            "47/47 [==============================] - 10s 206ms/step - loss: 0.9204 - accuracy: 0.7033 - val_loss: 1.3741 - val_accuracy: 0.6000\n",
            "Epoch 3/5\n",
            "47/47 [==============================] - 10s 205ms/step - loss: 0.6822 - accuracy: 0.7200 - val_loss: 0.5892 - val_accuracy: 0.7180\n",
            "Epoch 4/5\n",
            "47/47 [==============================] - 10s 206ms/step - loss: 0.6128 - accuracy: 0.7520 - val_loss: 0.7781 - val_accuracy: 0.6860\n",
            "Epoch 5/5\n",
            "47/47 [==============================] - 10s 207ms/step - loss: 0.5039 - accuracy: 0.7827 - val_loss: 0.5464 - val_accuracy: 0.7460\n"
          ],
          "name": "stdout"
        }
      ]
    },
    {
      "cell_type": "markdown",
      "metadata": {
        "id": "gK6kydRDeObP"
      },
      "source": [
        "And even with close to 500x (~15,000,000 vs. ~31,000) more trainable parameters, model_3 still doesn't out perform model_1."
      ]
    },
    {
      "cell_type": "code",
      "metadata": {
        "colab": {
          "base_uri": "https://localhost:8080/"
        },
        "id": "22CqaovId7LC",
        "outputId": "95a5a931-eec2-4072-8112-f4d9ad867f21"
      },
      "source": [
        "# Check out model_3 architecture\n",
        "model_3.summary()"
      ],
      "execution_count": null,
      "outputs": [
        {
          "output_type": "stream",
          "text": [
            "Model: \"sequential_2\"\n",
            "_________________________________________________________________\n",
            "Layer (type)                 Output Shape              Param #   \n",
            "=================================================================\n",
            "flatten_2 (Flatten)          (None, 150528)            0         \n",
            "_________________________________________________________________\n",
            "dense_4 (Dense)              (None, 100)               15052900  \n",
            "_________________________________________________________________\n",
            "dense_5 (Dense)              (None, 100)               10100     \n",
            "_________________________________________________________________\n",
            "dense_6 (Dense)              (None, 100)               10100     \n",
            "_________________________________________________________________\n",
            "dense_7 (Dense)              (None, 1)                 101       \n",
            "=================================================================\n",
            "Total params: 15,073,201\n",
            "Trainable params: 15,073,201\n",
            "Non-trainable params: 0\n",
            "_________________________________________________________________\n"
          ],
          "name": "stdout"
        }
      ]
    },
    {
      "cell_type": "markdown",
      "metadata": {
        "id": "Adv5D7nceTXy"
      },
      "source": [
        "This goes to show the power of convolutional neural networks and their ability to learn patterns despite using less parameters."
      ]
    },
    {
      "cell_type": "markdown",
      "metadata": {
        "id": "hncaSb_9fOSU"
      },
      "source": [
        "## Baseline Model"
      ]
    },
    {
      "cell_type": "code",
      "metadata": {
        "id": "SBdZQoEtfNpK"
      },
      "source": [
        "# Make the creating of our model a little easier\n",
        "from tensorflow.keras.optimizers import Adam\n",
        "from tensorflow.keras.layers import Dense, Flatten, Conv2D, MaxPool2D, Activation\n",
        "from tensorflow.keras import Sequential"
      ],
      "execution_count": null,
      "outputs": []
    },
    {
      "cell_type": "code",
      "metadata": {
        "id": "5dNxu_kafS_C"
      },
      "source": [
        "# Create the model (this can be our baseline, a 3 layer Convolutional Neural Network)\n",
        "model_4 = Sequential([\n",
        "  Conv2D(filters=10, \n",
        "         kernel_size=3, \n",
        "         strides=1,\n",
        "         padding='valid',\n",
        "         activation='relu', \n",
        "         input_shape=(224, 224, 3)), # input layer (specify input shape)\n",
        "  Conv2D(10, 3, activation='relu'),\n",
        "  Conv2D(10, 3, activation='relu'),\n",
        "  Flatten(),\n",
        "  Dense(1, activation='sigmoid') # output layer (specify output shape)\n",
        "])\n",
        "\n",
        "# Compile the model\n",
        "model_4.compile(loss='binary_crossentropy',\n",
        "                optimizer=Adam(),\n",
        "                metrics=['accuracy'])"
      ],
      "execution_count": null,
      "outputs": []
    },
    {
      "cell_type": "code",
      "metadata": {
        "colab": {
          "base_uri": "https://localhost:8080/"
        },
        "id": "egsIMPYqgeD8",
        "outputId": "a8e5cc97-7345-440f-8293-92ba665b6448"
      },
      "source": [
        "# Fit the model\n",
        "history_4 = model_4.fit(train_data,\n",
        "                        epochs=5,\n",
        "                        steps_per_epoch=len(train_data),\n",
        "                        validation_data=valid_data,\n",
        "                        validation_steps=len(valid_data))"
      ],
      "execution_count": null,
      "outputs": [
        {
          "output_type": "stream",
          "text": [
            "Epoch 1/5\n",
            "47/47 [==============================] - 13s 252ms/step - loss: 1.2048 - accuracy: 0.6680 - val_loss: 0.4172 - val_accuracy: 0.8200\n",
            "Epoch 2/5\n",
            "47/47 [==============================] - 11s 243ms/step - loss: 0.3919 - accuracy: 0.8373 - val_loss: 0.3970 - val_accuracy: 0.8360\n",
            "Epoch 3/5\n",
            "47/47 [==============================] - 12s 246ms/step - loss: 0.2543 - accuracy: 0.9080 - val_loss: 0.3806 - val_accuracy: 0.8140\n",
            "Epoch 4/5\n",
            "47/47 [==============================] - 12s 245ms/step - loss: 0.1307 - accuracy: 0.9713 - val_loss: 0.4679 - val_accuracy: 0.8020\n",
            "Epoch 5/5\n",
            "47/47 [==============================] - 12s 244ms/step - loss: 0.0526 - accuracy: 0.9913 - val_loss: 0.3939 - val_accuracy: 0.8360\n"
          ],
          "name": "stdout"
        }
      ]
    },
    {
      "cell_type": "markdown",
      "metadata": {
        "id": "UiUZ7DrqhDbZ"
      },
      "source": [
        "When a model's validation loss starts to increase, it's likely that it's overfitting the training dataset. This means, it's learning the patterns in the training dataset too well and thus its ability to generalize to unseen data will be diminished."
      ]
    },
    {
      "cell_type": "code",
      "metadata": {
        "colab": {
          "base_uri": "https://localhost:8080/",
          "height": 428
        },
        "id": "D2phB1TugeVe",
        "outputId": "8ab53917-df61-49e5-a73e-83a25a1007e7"
      },
      "source": [
        "# Plot the training curves\n",
        "import pandas as pd\n",
        "pd.DataFrame(history_4.history).plot(figsize=(10, 7));"
      ],
      "execution_count": null,
      "outputs": [
        {
          "output_type": "display_data",
          "data": {
            "image/png": "[encoded data removed]",
            "text/plain": [
              "<Figure size 720x504 with 1 Axes>"
            ]
          },
          "metadata": {
            "needs_background": "light"
          }
        }
      ]
    },
    {
      "cell_type": "code",
      "metadata": {
        "id": "Mw9NHnO6hHgF"
      },
      "source": [
        "# Plot the validation and training data separately\n",
        "def plot_loss_curves(history):\n",
        "  \"\"\"\n",
        "  Returns separate loss curves for training and validation metrics.\n",
        "  \"\"\" \n",
        "  loss = history.history['loss']\n",
        "  val_loss = history.history['val_loss']\n",
        "\n",
        "  accuracy = history.history['accuracy']\n",
        "  val_accuracy = history.history['val_accuracy']\n",
        "\n",
        "  epochs = range(len(history.history['loss']))\n",
        "\n",
        "  # Plot loss\n",
        "  plt.plot(epochs, loss, label='training_loss')\n",
        "  plt.plot(epochs, val_loss, label='val_loss')\n",
        "  plt.title('Loss')\n",
        "  plt.xlabel('Epochs')\n",
        "  plt.legend()\n",
        "\n",
        "  # Plot accuracy\n",
        "  plt.figure()\n",
        "  plt.plot(epochs, accuracy, label='training_accuracy')\n",
        "  plt.plot(epochs, val_accuracy, label='val_accuracy')\n",
        "  plt.title('Accuracy')\n",
        "  plt.xlabel('Epochs')\n",
        "  plt.legend();"
      ],
      "execution_count": null,
      "outputs": []
    },
    {
      "cell_type": "markdown",
      "metadata": {
        "id": "Enf7vajchpi4"
      },
      "source": [
        "\n",
        "The ideal position for these two curves is to follow each other. If anything, the validation curve should be slightly under the training curve. If there's a large gap between the training curve and validation curve, it means your model is probably overfitting."
      ]
    },
    {
      "cell_type": "code",
      "metadata": {
        "colab": {
          "base_uri": "https://localhost:8080/",
          "height": 573
        },
        "id": "XFM8xIwnhcqs",
        "outputId": "fbc8741d-447a-442f-cd66-51cc348a3eb7"
      },
      "source": [
        "# Check out the loss curves of model_4\n",
        "plot_loss_curves(history_4)"
      ],
      "execution_count": null,
      "outputs": [
        {
          "output_type": "display_data",
          "data": {
            "image/png": "[encoded data removed]",
            "text/plain": [
              "<Figure size 432x288 with 1 Axes>"
            ]
          },
          "metadata": {
            "needs_background": "light"
          }
        },
        {
          "output_type": "display_data",
          "data": {
            "image/png": "[encoded data removed]",
            "text/plain": [
              "<Figure size 432x288 with 1 Axes>"
            ]
          },
          "metadata": {
            "needs_background": "light"
          }
        }
      ]
    },
    {
      "cell_type": "markdown",
      "metadata": {
        "id": "5I2r085rhxUj"
      },
      "source": [
        "Fitting a machine learning model comes in 3 steps:\n",
        "\n",
        "* Create a baseline.\n",
        "* Beat the baseline by overfitting a larger model.\n",
        "* Reduce overfitting.\n",
        "\n",
        "Ways to prevent overfitting:\n",
        "* Get more data - Having more data gives the model more opportunities to learn patterns, patterns which may be more generalizable to new examples.\n",
        "* Simplify model - If the current model is already overfitting the training data, it may be too complicated of a model. This means it's learning the patterns of the data too well and isn't able to generalize well to unseen data. One way to simplify a model is to reduce the number of layers it uses or to reduce the number of hidden units in each layer.\n",
        "* Use data augmentation - Data augmentation manipulates the training data in a way so that's harder for the model to learn as it artificially adds more variety to the data. If a model is able to learn patterns in augmented data, the model may be able to generalize better to unseen data.\n",
        "* Use transfer learning - Transfer learning involves leverages the patterns (also called pretrained weights) one model has learned to use as the foundation for your own task. In our case, we could use one computer vision model pretrained on a large variety of images and then tweak it slightly to be more specialized for food images.\n"
      ]
    },
    {
      "cell_type": "code",
      "metadata": {
        "colab": {
          "base_uri": "https://localhost:8080/"
        },
        "id": "fyQ9D5p2hg12",
        "outputId": "ccb1c633-2c6c-42aa-a1b1-ab1e1631841e"
      },
      "source": [
        "# Try a simplified model (removed few layers of Conv2D)\n",
        "model_10 = Sequential([\n",
        "  Conv2D(10, 3, activation='relu', input_shape=(224, 224, 3)),\n",
        "  MaxPool2D(2),\n",
        "  Conv2D(10, 3, activation='relu'),\n",
        "  MaxPool2D(2),\n",
        "  Flatten(),\n",
        "  Dense(1, activation='sigmoid')\n",
        "])\n",
        "\n",
        "model_10.compile(loss='categorical_crossentropy',\n",
        "                 optimizer=tf.keras.optimizers.Adam(),\n",
        "                 metrics=['accuracy'])\n",
        "\n",
        "history_10 = model_10.fit(train_data,\n",
        "                        epochs=5,\n",
        "                        steps_per_epoch=len(train_data),\n",
        "                        validation_data=valid_data,\n",
        "                        validation_steps=len(valid_data))"
      ],
      "execution_count": null,
      "outputs": [
        {
          "output_type": "stream",
          "text": [
            "Epoch 1/5\n",
            "47/47 [==============================] - 11s 224ms/step - loss: 0.0000e+00 - accuracy: 0.5027 - val_loss: 0.0000e+00 - val_accuracy: 0.5000\n",
            "Epoch 2/5\n",
            "47/47 [==============================] - 10s 215ms/step - loss: 0.0000e+00 - accuracy: 0.5000 - val_loss: 0.0000e+00 - val_accuracy: 0.5000\n",
            "Epoch 3/5\n",
            "47/47 [==============================] - 10s 214ms/step - loss: 0.0000e+00 - accuracy: 0.5000 - val_loss: 0.0000e+00 - val_accuracy: 0.5000\n",
            "Epoch 4/5\n",
            "47/47 [==============================] - 10s 214ms/step - loss: 0.0000e+00 - accuracy: 0.5000 - val_loss: 0.0000e+00 - val_accuracy: 0.5000\n",
            "Epoch 5/5\n",
            "47/47 [==============================] - 10s 216ms/step - loss: 0.0000e+00 - accuracy: 0.5000 - val_loss: 0.0000e+00 - val_accuracy: 0.5000\n"
          ],
          "name": "stdout"
        }
      ]
    },
    {
      "cell_type": "markdown",
      "metadata": {
        "id": "f_Hhmioti_xG"
      },
      "source": [
        "## Data Augmentation"
      ]
    },
    {
      "cell_type": "code",
      "metadata": {
        "colab": {
          "base_uri": "https://localhost:8080/"
        },
        "id": "pftwurZQi9he",
        "outputId": "77572b53-5020-4bde-cf40-dff48a0aebb1"
      },
      "source": [
        "# Create augmented data generator instance\n",
        "train_datagen_augmented = ImageDataGenerator(rescale=1/255.,\n",
        "                                             rotation_range=20, # note: this is an int not a float\n",
        "                                             width_shift_range=0.2,\n",
        "                                             height_shift_range=0.2,\n",
        "                                             zoom_range=0.2,\n",
        "                                             horizontal_flip=True)                                             \n",
        "\n",
        "train_data_augmented = train_datagen_augmented.flow_from_directory(train_dir,\n",
        "                                                                  target_size=(224, 224),\n",
        "                                                                  batch_size=32,\n",
        "                                                                  class_mode='binary')"
      ],
      "execution_count": null,
      "outputs": [
        {
          "output_type": "stream",
          "text": [
            "Found 1500 images belonging to 2 classes.\n"
          ],
          "name": "stdout"
        }
      ]
    },
    {
      "cell_type": "code",
      "metadata": {
        "id": "L0otVN2TjX8l"
      },
      "source": [
        "# Clone the model (use the same architecture)\n",
        "# model_11 = tf.keras.models.clone_model(model_1)\n",
        "\n",
        "model_11 = tf.keras.models.Sequential([\n",
        "    tf.keras.layers.Conv2D(filters=10, \n",
        "                         kernel_size=3, # can also be (3, 3)\n",
        "                         activation=\"relu\", \n",
        "                         input_shape=(224, 224, 3)), # first layer specifies input shape (height, width, colour channels)\n",
        "    tf.keras.layers.Conv2D(10, 3, activation=\"relu\"),\n",
        "    tf.keras.layers.MaxPool2D(pool_size=2, # pool_size can also be (2, 2)\n",
        "                            padding=\"valid\"), # padding can also be 'same' \n",
        "    tf.keras.layers.Conv2D(10, 3, activation=\"relu\"),\n",
        "    tf.keras.layers.Conv2D(10, 3, activation=\"relu\"), # activation='relu' == tf.keras.layers.Activations(tf.nn.relu)\n",
        "    tf.keras.layers.MaxPool2D(2),\n",
        "    tf.keras.layers.Flatten(),\n",
        "    tf.keras.layers.Dense(1, activation=\"sigmoid\") # binary activation output\n",
        "]) \n",
        "\n",
        "# Compile the cloned model (same setup as used for model_1)\n",
        "model_11.compile(loss=\"binary_crossentropy\",\n",
        "              optimizer=tf.keras.optimizers.Adam(),\n",
        "              metrics=[\"accuracy\"])\n",
        "\n",
        "# Fit the model\n",
        "history_11 = model_11.fit(train_data_augmented, # use augmented data\n",
        "                          epochs=5,\n",
        "                          steps_per_epoch=len(train_data_augmented),\n",
        "                          validation_data=valid_data,\n",
        "                          validation_steps=len(valid_data))"
      ],
      "execution_count": null,
      "outputs": []
    },
    {
      "cell_type": "markdown",
      "metadata": {
        "id": "i7-7qdjakiu3"
      },
      "source": [
        "## Transfer Learning\n",
        "* Can leverage an existing neural network architecture proven to work on problems similar to our own.\n",
        "* Can leverage a working neural network architecture which has already learned patterns on similar data to our own. This often results in achieving great results with less custom data."
      ]
    },
    {
      "cell_type": "code",
      "metadata": {
        "colab": {
          "base_uri": "https://localhost:8080/"
        },
        "id": "4QRWPey5jdMt",
        "outputId": "84268494-b836-4ba6-931d-7ddcf31985bd"
      },
      "source": [
        "# Are we using a GPU?\n",
        "!nvidia-smi"
      ],
      "execution_count": null,
      "outputs": [
        {
          "output_type": "stream",
          "text": [
            "Mon Aug 30 14:59:38 2021       \n",
            "+-----------------------------------------------------------------------------+\n",
            "| NVIDIA-SMI 470.57.02    Driver Version: 460.32.03    CUDA Version: 11.2     |\n",
            "|-------------------------------+----------------------+----------------------+\n",
            "| GPU  Name        Persistence-M| Bus-Id        Disp.A | Volatile Uncorr. ECC |\n",
            "| Fan  Temp  Perf  Pwr:Usage/Cap|         Memory-Usage | GPU-Util  Compute M. |\n",
            "|                               |                      |               MIG M. |\n",
            "|===============================+======================+======================|\n",
            "|   0  Tesla K80           Off  | 00000000:00:04.0 Off |                    0 |\n",
            "| N/A   51C    P0    61W / 149W |   1789MiB / 11441MiB |      0%      Default |\n",
            "|                               |                      |                  N/A |\n",
            "+-------------------------------+----------------------+----------------------+\n",
            "                                                                               \n",
            "+-----------------------------------------------------------------------------+\n",
            "| Processes:                                                                  |\n",
            "|  GPU   GI   CI        PID   Type   Process name                  GPU Memory |\n",
            "|        ID   ID                                                   Usage      |\n",
            "|=============================================================================|\n",
            "|  No running processes found                                                 |\n",
            "+-----------------------------------------------------------------------------+\n"
          ],
          "name": "stdout"
        }
      ]
    },
    {
      "cell_type": "code",
      "metadata": {
        "colab": {
          "base_uri": "https://localhost:8080/"
        },
        "id": "5__wU5OekypV",
        "outputId": "0b6a03d9-a480-4715-955d-cb58423b134d"
      },
      "source": [
        "# Get data (10% of labels)\n",
        "import zipfile\n",
        "\n",
        "# Download data\n",
        "!wget https://storage.googleapis.com/ztm_tf_course/food_vision/10_food_classes_10_percent.zip\n",
        "\n",
        "# Unzip the downloaded file\n",
        "zip_ref = zipfile.ZipFile(\"10_food_classes_10_percent.zip\", \"r\")\n",
        "zip_ref.extractall()\n",
        "zip_ref.close()"
      ],
      "execution_count": null,
      "outputs": [
        {
          "output_type": "stream",
          "text": [
            "--2021-08-30 15:00:15--  https://storage.googleapis.com/ztm_tf_course/food_vision/10_food_classes_10_percent.zip\n",
            "Resolving storage.googleapis.com (storage.googleapis.com)... 142.251.5.128, 74.125.206.128, 64.233.167.128, ...\n",
            "Connecting to storage.googleapis.com (storage.googleapis.com)|142.251.5.128|:443... connected.\n",
            "HTTP request sent, awaiting response... 200 OK\n",
            "Length: 168546183 (161M) [application/zip]\n",
            "Saving to: ‘10_food_classes_10_percent.zip’\n",
            "\n",
            "10_food_classes_10_ 100%[===================>] 160.74M  43.9MB/s    in 3.7s    \n",
            "\n",
            "2021-08-30 15:00:20 (43.9 MB/s) - ‘10_food_classes_10_percent.zip’ saved [168546183/168546183]\n",
            "\n"
          ],
          "name": "stdout"
        }
      ]
    },
    {
      "cell_type": "code",
      "metadata": {
        "colab": {
          "base_uri": "https://localhost:8080/"
        },
        "id": "t5j7u_v6k3Ar",
        "outputId": "5a15d4c3-bdab-43c0-9d50-c1a9cfc37e38"
      },
      "source": [
        "# How many images in each folder?\n",
        "import os\n",
        "\n",
        "# Walk through 10 percent data directory and list number of files\n",
        "for dirpath, dirnames, filenames in os.walk(\"10_food_classes_10_percent\"):\n",
        "  print(f\"There are {len(dirnames)} directories and {len(filenames)} images in '{dirpath}'.\")"
      ],
      "execution_count": null,
      "outputs": [
        {
          "output_type": "stream",
          "text": [
            "There are 2 directories and 0 images in '10_food_classes_10_percent'.\n",
            "There are 10 directories and 0 images in '10_food_classes_10_percent/test'.\n",
            "There are 0 directories and 250 images in '10_food_classes_10_percent/test/hamburger'.\n",
            "There are 0 directories and 250 images in '10_food_classes_10_percent/test/chicken_wings'.\n",
            "There are 0 directories and 250 images in '10_food_classes_10_percent/test/fried_rice'.\n",
            "There are 0 directories and 250 images in '10_food_classes_10_percent/test/sushi'.\n",
            "There are 0 directories and 250 images in '10_food_classes_10_percent/test/pizza'.\n",
            "There are 0 directories and 250 images in '10_food_classes_10_percent/test/ice_cream'.\n",
            "There are 0 directories and 250 images in '10_food_classes_10_percent/test/steak'.\n",
            "There are 0 directories and 250 images in '10_food_classes_10_percent/test/chicken_curry'.\n",
            "There are 0 directories and 250 images in '10_food_classes_10_percent/test/grilled_salmon'.\n",
            "There are 0 directories and 250 images in '10_food_classes_10_percent/test/ramen'.\n",
            "There are 10 directories and 0 images in '10_food_classes_10_percent/train'.\n",
            "There are 0 directories and 75 images in '10_food_classes_10_percent/train/hamburger'.\n",
            "There are 0 directories and 75 images in '10_food_classes_10_percent/train/chicken_wings'.\n",
            "There are 0 directories and 75 images in '10_food_classes_10_percent/train/fried_rice'.\n",
            "There are 0 directories and 75 images in '10_food_classes_10_percent/train/sushi'.\n",
            "There are 0 directories and 75 images in '10_food_classes_10_percent/train/pizza'.\n",
            "There are 0 directories and 75 images in '10_food_classes_10_percent/train/ice_cream'.\n",
            "There are 0 directories and 75 images in '10_food_classes_10_percent/train/steak'.\n",
            "There are 0 directories and 75 images in '10_food_classes_10_percent/train/chicken_curry'.\n",
            "There are 0 directories and 75 images in '10_food_classes_10_percent/train/grilled_salmon'.\n",
            "There are 0 directories and 75 images in '10_food_classes_10_percent/train/ramen'.\n"
          ],
          "name": "stdout"
        }
      ]
    },
    {
      "cell_type": "code",
      "metadata": {
        "colab": {
          "base_uri": "https://localhost:8080/"
        },
        "id": "JbQL_sblk-tu",
        "outputId": "dbb4aff3-c4e3-4b04-8449-20c8db15ecdd"
      },
      "source": [
        "# Setup data inputs\n",
        "from tensorflow.keras.preprocessing.image import ImageDataGenerator\n",
        "\n",
        "IMAGE_SHAPE = (224, 224)\n",
        "BATCH_SIZE = 32\n",
        "\n",
        "train_dir = \"10_food_classes_10_percent/train/\"\n",
        "test_dir = \"10_food_classes_10_percent/test/\"\n",
        "\n",
        "train_datagen = ImageDataGenerator(rescale=1/255.)\n",
        "test_datagen = ImageDataGenerator(rescale=1/255.)\n",
        "\n",
        "print(\"Training images:\")\n",
        "train_data_10_percent = train_datagen.flow_from_directory(train_dir,\n",
        "                                               target_size=IMAGE_SHAPE,\n",
        "                                               batch_size=BATCH_SIZE,\n",
        "                                               class_mode=\"categorical\")\n",
        "\n",
        "print(\"Testing images:\")\n",
        "test_data = train_datagen.flow_from_directory(test_dir,\n",
        "                                              target_size=IMAGE_SHAPE,\n",
        "                                              batch_size=BATCH_SIZE,\n",
        "                                              class_mode=\"categorical\")"
      ],
      "execution_count": null,
      "outputs": [
        {
          "output_type": "stream",
          "text": [
            "Training images:\n",
            "Found 750 images belonging to 10 classes.\n",
            "Testing images:\n",
            "Found 2500 images belonging to 10 classes.\n"
          ],
          "name": "stdout"
        }
      ]
    },
    {
      "cell_type": "code",
      "metadata": {
        "id": "Glqr0cjHlFWf"
      },
      "source": [
        "# Create tensorboard callback (functionized because need to create a new one for each model)\n",
        "import datetime\n",
        "def create_tensorboard_callback(dir_name, experiment_name):\n",
        "  log_dir = dir_name + \"/\" + experiment_name + \"/\" + datetime.datetime.now().strftime(\"%Y%m%d-%H%M%S\")\n",
        "  tensorboard_callback = tf.keras.callbacks.TensorBoard(\n",
        "      log_dir=log_dir\n",
        "  )\n",
        "  print(f\"Saving TensorBoard log files to: {log_dir}\")\n",
        "  return tensorboard_callback"
      ],
      "execution_count": null,
      "outputs": []
    },
    {
      "cell_type": "markdown",
      "metadata": {
        "id": "155yBobslOQA"
      },
      "source": [
        "Now we're going to do a similar process, except the majority of our model's layers are going to come from TensorFlow Hub.\n",
        "* ResNetV2 - a state of the art computer vision model architecture from 2016.\n",
        "* EfficientNet - a state of the art computer vision architecture from 2019.\n"
      ]
    },
    {
      "cell_type": "code",
      "metadata": {
        "id": "2bWULhyOlJZv"
      },
      "source": [
        "import tensorflow as tf\n",
        "import tensorflow_hub as hub\n",
        "from tensorflow.keras import layers"
      ],
      "execution_count": null,
      "outputs": []
    },
    {
      "cell_type": "code",
      "metadata": {
        "id": "USwdhaUrl-jE"
      },
      "source": [
        "# Resnet 50 V2 feature vector\n",
        "resnet_url = \"https://tfhub.dev/google/imagenet/resnet_v2_50/feature_vector/4\"\n",
        "\n",
        "# Original: EfficientNetB0 feature vector (version 1)\n",
        "efficientnet_url = \"https://tfhub.dev/tensorflow/efficientnet/b0/feature-vector/1\"\n",
        "\n",
        "# # New: EfficientNetB0 feature vector (version 2)\n",
        "# efficientnet_url = \"https://tfhub.dev/google/imagenet/efficientnet_v2_imagenet1k_b0/feature_vector/2\""
      ],
      "execution_count": null,
      "outputs": []
    },
    {
      "cell_type": "code",
      "metadata": {
        "id": "S6lLHLUFmGpR"
      },
      "source": [
        "def create_model(model_url, num_classes=10):\n",
        "  \"\"\"Takes a TensorFlow Hub URL and creates a Keras Sequential model with it.\n",
        "  \n",
        "  Args:\n",
        "    model_url (str): A TensorFlow Hub feature extraction URL.\n",
        "    num_classes (int): Number of output neurons in output layer,\n",
        "      should be equal to number of target classes, default 10.\n",
        "\n",
        "  Returns:\n",
        "    An uncompiled Keras Sequential model with model_url as feature\n",
        "    extractor layer and Dense output layer with num_classes outputs.\n",
        "  \"\"\"\n",
        "  # Download the pretrained model and save it as a Keras layer\n",
        "  feature_extractor_layer = hub.KerasLayer(model_url,\n",
        "                                           trainable=False, # freeze the underlying patterns\n",
        "                                           name='feature_extraction_layer',\n",
        "                                           input_shape=IMAGE_SHAPE+(3,)) # define the input image shape\n",
        "  \n",
        "  # Create our own model\n",
        "  model = tf.keras.Sequential([\n",
        "    feature_extractor_layer, # use the feature extraction layer as the base\n",
        "    layers.Dense(num_classes, activation='softmax', name='output_layer') # create our own output layer      \n",
        "  ])\n",
        "\n",
        "  return model"
      ],
      "execution_count": null,
      "outputs": []
    },
    {
      "cell_type": "code",
      "metadata": {
        "id": "5sH6qezfmMjE"
      },
      "source": [
        "# Create model\n",
        "resnet_model = create_model(resnet_url, num_classes=train_data_10_percent.num_classes)"
      ],
      "execution_count": null,
      "outputs": []
    },
    {
      "cell_type": "code",
      "metadata": {
        "id": "Cs3UMQ9NmPj8"
      },
      "source": [
        "# Compile\n",
        "resnet_model.compile(loss='categorical_crossentropy',\n",
        "                     optimizer=tf.keras.optimizers.Adam(),\n",
        "                     metrics=['accuracy'])"
      ],
      "execution_count": null,
      "outputs": []
    },
    {
      "cell_type": "markdown",
      "metadata": {
        "id": "yIukGUxtmqqS"
      },
      "source": [
        "It seems that after only 5 epochs, the ResNetV250 feature extraction model was able to blow any of the architectures we made out of the water, achieving around 90% accuracy on the training set and nearly 80% accuracy on the test set...with only 10 percent of the training images!"
      ]
    },
    {
      "cell_type": "code",
      "metadata": {
        "colab": {
          "base_uri": "https://localhost:8080/"
        },
        "id": "6MvVjWwRmVpX",
        "outputId": "c608a610-7887-4412-bc86-180c6147a74a"
      },
      "source": [
        "# Fit the model\n",
        "resnet_history = resnet_model.fit(train_data_10_percent,\n",
        "                                  epochs=5,\n",
        "                                  steps_per_epoch=len(train_data_10_percent),\n",
        "                                  validation_data=test_data,\n",
        "                                  validation_steps=len(test_data),\n",
        "                                  # Add TensorBoard callback to model (callbacks parameter takes a list)\n",
        "                                  callbacks=[create_tensorboard_callback(dir_name=\"tensorflow_hub\", # save experiment logs here\n",
        "                                                                         experiment_name=\"resnet50V2\")]) # name of log files"
      ],
      "execution_count": null,
      "outputs": [
        {
          "output_type": "stream",
          "text": [
            "Saving TensorBoard log files to: tensorflow_hub/resnet50V2/20210830-150658\n",
            "Epoch 1/5\n",
            "24/24 [==============================] - 30s 1s/step - loss: 2.0283 - accuracy: 0.3133 - val_loss: 1.2991 - val_accuracy: 0.5728\n",
            "Epoch 2/5\n",
            "24/24 [==============================] - 22s 925ms/step - loss: 0.9393 - accuracy: 0.7160 - val_loss: 0.8675 - val_accuracy: 0.7216\n",
            "Epoch 3/5\n",
            "24/24 [==============================] - 22s 925ms/step - loss: 0.6300 - accuracy: 0.8133 - val_loss: 0.7616 - val_accuracy: 0.7624\n",
            "Epoch 4/5\n",
            "24/24 [==============================] - 22s 929ms/step - loss: 0.4824 - accuracy: 0.8707 - val_loss: 0.7164 - val_accuracy: 0.7708\n",
            "Epoch 5/5\n",
            "24/24 [==============================] - 22s 927ms/step - loss: 0.3952 - accuracy: 0.9067 - val_loss: 0.6846 - val_accuracy: 0.7780\n"
          ],
          "name": "stdout"
        }
      ]
    },
    {
      "cell_type": "code",
      "metadata": {
        "colab": {
          "base_uri": "https://localhost:8080/",
          "height": 573
        },
        "id": "jd3ipTeFm9P1",
        "outputId": "15d2788d-7965-43f3-d6c7-f2c31214c0f7"
      },
      "source": [
        "plot_loss_curves(resnet_history)"
      ],
      "execution_count": null,
      "outputs": [
        {
          "output_type": "display_data",
          "data": {
            "image/png": "[encoded data removed]",
            "text/plain": [
              "<Figure size 432x288 with 1 Axes>"
            ]
          },
          "metadata": {
            "needs_background": "light"
          }
        },
        {
          "output_type": "display_data",
          "data": {
            "image/png": "[encoded data removed]",
            "text/plain": [
              "<Figure size 432x288 with 1 Axes>"
            ]
          },
          "metadata": {
            "needs_background": "light"
          }
        }
      ]
    },
    {
      "cell_type": "markdown",
      "metadata": {
        "id": "JMWG9ii0nJTQ"
      },
      "source": [
        "You can see the power of TensorFlow Hub here. The feature extraction layer has 23,564,800 parameters which are prelearned patterns the model has already learned on the ImageNet dataset. Since we set trainable=False, these patterns remain frozen (non-trainable) during training."
      ]
    },
    {
      "cell_type": "code",
      "metadata": {
        "colab": {
          "base_uri": "https://localhost:8080/"
        },
        "id": "WPfwheAym9dF",
        "outputId": "5bed2e6b-9600-40de-b607-4c53d05e6b94"
      },
      "source": [
        "resnet_model.summary()"
      ],
      "execution_count": null,
      "outputs": [
        {
          "output_type": "stream",
          "text": [
            "Model: \"sequential_11\"\n",
            "_________________________________________________________________\n",
            "Layer (type)                 Output Shape              Param #   \n",
            "=================================================================\n",
            "feature_extraction_layer (Ke (None, 2048)              23564800  \n",
            "_________________________________________________________________\n",
            "output_layer (Dense)         (None, 10)                20490     \n",
            "=================================================================\n",
            "Total params: 23,585,290\n",
            "Trainable params: 20,490\n",
            "Non-trainable params: 23,564,800\n",
            "_________________________________________________________________\n"
          ],
          "name": "stdout"
        }
      ]
    },
    {
      "cell_type": "markdown",
      "metadata": {
        "id": "QTuYrJpvnYEQ"
      },
      "source": [
        "Okay, we've trained a ResNetV250 model, time to do the same with EfficientNetB0 model."
      ]
    },
    {
      "cell_type": "code",
      "metadata": {
        "colab": {
          "base_uri": "https://localhost:8080/"
        },
        "id": "m33DdjL_nYsS",
        "outputId": "1b122287-7f5c-4f49-a4f7-508157ca7ae7"
      },
      "source": [
        "# Create model\n",
        "efficientnet_model = create_model(model_url=efficientnet_url, # use EfficientNetB0 TensorFlow Hub URL\n",
        "                                  num_classes=train_data_10_percent.num_classes)\n",
        "\n",
        "# Compile EfficientNet model\n",
        "efficientnet_model.compile(loss='categorical_crossentropy',\n",
        "                           optimizer=tf.keras.optimizers.Adam(),\n",
        "                           metrics=['accuracy'])\n",
        "\n",
        "# Fit EfficientNet model \n",
        "efficientnet_history = efficientnet_model.fit(train_data_10_percent, # only use 10% of training data\n",
        "                                              epochs=5, # train for 5 epochs\n",
        "                                              steps_per_epoch=len(train_data_10_percent),\n",
        "                                              validation_data=test_data,\n",
        "                                              validation_steps=len(test_data),\n",
        "                                              callbacks=[create_tensorboard_callback(dir_name=\"tensorflow_hub\", \n",
        "                                                                                     # Track logs under different experiment name\n",
        "                                                                                     experiment_name=\"efficientnetB0\")])"
      ],
      "execution_count": null,
      "outputs": [
        {
          "output_type": "stream",
          "text": [
            "Saving TensorBoard log files to: tensorflow_hub/efficientnetB0/20210830-151200\n",
            "Epoch 1/5\n",
            "24/24 [==============================] - 33s 996ms/step - loss: 1.8841 - accuracy: 0.4160 - val_loss: 1.3050 - val_accuracy: 0.7240\n",
            "Epoch 2/5\n",
            "24/24 [==============================] - 19s 813ms/step - loss: 1.0827 - accuracy: 0.7573 - val_loss: 0.8805 - val_accuracy: 0.8212\n",
            "Epoch 3/5\n",
            "24/24 [==============================] - 19s 814ms/step - loss: 0.7767 - accuracy: 0.8347 - val_loss: 0.7013 - val_accuracy: 0.8464\n",
            "Epoch 4/5\n",
            "24/24 [==============================] - 19s 811ms/step - loss: 0.6237 - accuracy: 0.8613 - val_loss: 0.6127 - val_accuracy: 0.8616\n",
            "Epoch 5/5\n",
            "24/24 [==============================] - 19s 806ms/step - loss: 0.5280 - accuracy: 0.8960 - val_loss: 0.5584 - val_accuracy: 0.8648\n"
          ],
          "name": "stdout"
        }
      ]
    },
    {
      "cell_type": "markdown",
      "metadata": {
        "id": "zK4PhzfCn1OI"
      },
      "source": [
        "The EfficientNetB0 model does even better than the ResNetV250 model! Achieving over 85% accuracy on the test set...again with only 10% of the training data. From the look of the EfficientNetB0 model's loss curves, it looks like if we kept training our model for longer, it might improve even further. Perhaps that's something you might want to try?"
      ]
    },
    {
      "cell_type": "code",
      "metadata": {
        "colab": {
          "base_uri": "https://localhost:8080/",
          "height": 573
        },
        "id": "C-O-W-4voFyz",
        "outputId": "77cd122d-8a2f-4b29-aa25-39dc1aea538c"
      },
      "source": [
        "plot_loss_curves(efficientnet_history)"
      ],
      "execution_count": null,
      "outputs": [
        {
          "output_type": "display_data",
          "data": {
            "image/png": "[encoded data removed]",
            "text/plain": [
              "<Figure size 432x288 with 1 Axes>"
            ]
          },
          "metadata": {
            "needs_background": "light"
          }
        },
        {
          "output_type": "display_data",
          "data": {
            "image/png": "[encoded data removed]",
            "text/plain": [
              "<Figure size 432x288 with 1 Axes>"
            ]
          },
          "metadata": {
            "needs_background": "light"
          }
        }
      ]
    },
    {
      "cell_type": "code",
      "metadata": {
        "colab": {
          "base_uri": "https://localhost:8080/"
        },
        "id": "QRG8tim4oGfS",
        "outputId": "5e3e07a8-8318-4daa-9362-235a562e8197"
      },
      "source": [
        "efficientnet_model.summary()"
      ],
      "execution_count": null,
      "outputs": [
        {
          "output_type": "stream",
          "text": [
            "Model: \"sequential_12\"\n",
            "_________________________________________________________________\n",
            "Layer (type)                 Output Shape              Param #   \n",
            "=================================================================\n",
            "feature_extraction_layer (Ke (None, 1280)              4049564   \n",
            "_________________________________________________________________\n",
            "output_layer (Dense)         (None, 10)                12810     \n",
            "=================================================================\n",
            "Total params: 4,062,374\n",
            "Trainable params: 12,810\n",
            "Non-trainable params: 4,049,564\n",
            "_________________________________________________________________\n"
          ],
          "name": "stdout"
        }
      ]
    },
    {
      "cell_type": "code",
      "metadata": {
        "colab": {
          "base_uri": "https://localhost:8080/"
        },
        "id": "ZWHzAebzoUDp",
        "outputId": "d24d3201-73c5-4053-89cb-7915832cebd9"
      },
      "source": [
        "# Upload TensorBoard dev records\n",
        "!tensorboard dev upload --logdir ./tensorflow_hub/ \\\n",
        "  --name \"EfficientNetB0 vs. ResNet50V2\" \\\n",
        "  --description \"Comparing two different TF Hub feature extraction models architectures using 10% of training images\" \\\n",
        "  --one_shot"
      ],
      "execution_count": null,
      "outputs": [
        {
          "output_type": "stream",
          "text": [
            "2021-08-30 15:15:37.012242: I tensorflow/stream_executor/cuda/cuda_gpu_executor.cc:937] successful NUMA node read from SysFS had negative value (-1), but there must be at least one NUMA node, so returning NUMA node zero\n",
            "2021-08-30 15:15:37.032222: I tensorflow/stream_executor/cuda/cuda_gpu_executor.cc:937] successful NUMA node read from SysFS had negative value (-1), but there must be at least one NUMA node, so returning NUMA node zero\n",
            "2021-08-30 15:15:37.032766: I tensorflow/stream_executor/cuda/cuda_gpu_executor.cc:937] successful NUMA node read from SysFS had negative value (-1), but there must be at least one NUMA node, so returning NUMA node zero\n",
            "\n",
            "***** TensorBoard Uploader *****\n",
            "\n",
            "This will upload your TensorBoard logs to https://tensorboard.dev/ from\n",
            "the following directory:\n",
            "\n",
            "./tensorflow_hub/\n",
            "\n",
            "This TensorBoard will be visible to everyone. Do not upload sensitive\n",
            "data.\n",
            "\n",
            "Your use of this service is subject to Google's Terms of Service\n",
            "<https://policies.google.com/terms> and Privacy Policy\n",
            "<https://policies.google.com/privacy>, and TensorBoard.dev's Terms of Service\n",
            "<https://tensorboard.dev/policy/terms/>.\n",
            "\n",
            "This notice will not be shown again while you are logged into the uploader.\n",
            "To log out, run `tensorboard dev auth revoke`.\n",
            "\n",
            "Continue? (yes/NO) yes\n",
            "\n",
            "Please visit this URL to authorize this application: https://accounts.google.com/o/oauth2/auth?response_type=code&client_id=373649185512-8v619h5kft38l4456nm2dj4ubeqsrvh6.apps.googleusercontent.com&redirect_uri=urn%3Aietf%3Awg%3Aoauth%3A2.0%3Aoob&scope=openid+https%3A%2F%2Fwww.googleapis.com%2Fauth%2Fuserinfo.email&state=2H6IdsIGS8OPpQzItkw2eOZPGj9LNy&prompt=consent&access_type=offline\n",
            "Enter the authorization code: 4/1AX4XfWhmuhM22kaBNahhgmUHqMvvRDsfaSx9sWbWWaroVrsTVfFAuTcUECk\n",
            "\n",
            "\n",
            "New experiment created. View your TensorBoard at: https://tensorboard.dev/experiment/JMps1aLESQ64Dug8TN5eGA/\n",
            "\n",
            "\u001b[1m[2021-08-30T15:16:11]\u001b[0m Started scanning logdir.\n",
            "\u001b[1m[2021-08-30T15:16:15]\u001b[0m Total uploaded: 60 scalars, 0 tensors, 2 binary objects (5.8 MB)\n",
            "\u001b[1m[2021-08-30T15:16:15]\u001b[0m Done scanning logdir.\n",
            "\n",
            "\n",
            "Done. View your TensorBoard at https://tensorboard.dev/experiment/JMps1aLESQ64Dug8TN5eGA/\n"
          ],
          "name": "stdout"
        }
      ]
    },
    {
      "cell_type": "code",
      "metadata": {
        "colab": {
          "base_uri": "https://localhost:8080/"
        },
        "id": "uaOCvH0VonuN",
        "outputId": "7277f5d4-9ca0-4ff5-e44c-3c3055cbfa7a"
      },
      "source": [
        "# Check out experiments\n",
        "!tensorboard dev list"
      ],
      "execution_count": null,
      "outputs": [
        {
          "output_type": "stream",
          "text": [
            "2021-08-30 15:16:57.320771: I tensorflow/stream_executor/cuda/cuda_gpu_executor.cc:937] successful NUMA node read from SysFS had negative value (-1), but there must be at least one NUMA node, so returning NUMA node zero\n",
            "2021-08-30 15:16:57.336016: I tensorflow/stream_executor/cuda/cuda_gpu_executor.cc:937] successful NUMA node read from SysFS had negative value (-1), but there must be at least one NUMA node, so returning NUMA node zero\n",
            "2021-08-30 15:16:57.336525: I tensorflow/stream_executor/cuda/cuda_gpu_executor.cc:937] successful NUMA node read from SysFS had negative value (-1), but there must be at least one NUMA node, so returning NUMA node zero\n",
            "https://tensorboard.dev/experiment/JMps1aLESQ64Dug8TN5eGA/\n",
            "\tName                 EfficientNetB0 vs. ResNet50V2\n",
            "\tDescription          Comparing two different TF Hub feature extraction models architectures using 10% of training images\n",
            "\tId                   JMps1aLESQ64Dug8TN5eGA\n",
            "\tCreated              2021-08-30 15:16:11 (54 seconds ago)\n",
            "\tUpdated              2021-08-30 15:16:15 (50 seconds ago)\n",
            "\tRuns                 4\n",
            "\tTags                 5\n",
            "\tScalars              60\n",
            "\tTensor bytes         0\n",
            "\tBinary object bytes  6091438\n",
            "Total: 1 experiment(s)\n"
          ],
          "name": "stdout"
        }
      ]
    },
    {
      "cell_type": "code",
      "metadata": {
        "id": "BckCL19Ko70b"
      },
      "source": [
        "import tensorflow as tf\n",
        "from tensorflow import keras\n",
        "from tensorflow.keras import layers\n",
        "from tensorflow.keras.layers.experimental import preprocessing\n",
        "\n",
        "# To use data augmentation right within our model we'll create a Keras Sequential \n",
        "# model consisting of only data preprocessing layers, we can then use this Sequential \n",
        "# model within another Functional model.\n",
        "\n",
        "# Create a data augmentation stage with horizontal flipping, rotations, zooms\n",
        "data_augmentation = keras.Sequential([\n",
        "  preprocessing.RandomFlip(\"horizontal\"),\n",
        "  preprocessing.RandomRotation(0.2),\n",
        "  preprocessing.RandomZoom(0.2),\n",
        "  preprocessing.RandomHeight(0.2),\n",
        "  preprocessing.RandomWidth(0.2),\n",
        "  # preprocessing.Rescaling(1./255) # keep for ResNet50V2, remove for EfficientNetB0\n",
        "], name =\"data_augmentation\")"
      ],
      "execution_count": null,
      "outputs": []
    },
    {
      "cell_type": "code",
      "metadata": {
        "colab": {
          "base_uri": "https://localhost:8080/"
        },
        "id": "00fpigPCpQZF",
        "outputId": "bc55c209-ba86-4a2b-af03-4d5cfda10881"
      },
      "source": [
        "# Setup input shape and base model, freezing the base model layers\n",
        "input_shape = (224, 224, 3)\n",
        "base_model = tf.keras.applications.EfficientNetB0(include_top=False)\n",
        "base_model.trainable = False"
      ],
      "execution_count": null,
      "outputs": [
        {
          "output_type": "stream",
          "text": [
            "Downloading data from https://storage.googleapis.com/keras-applications/efficientnetb0_notop.h5\n",
            "16711680/16705208 [==============================] - 1s 0us/step\n",
            "16719872/16705208 [==============================] - 1s 0us/step\n"
          ],
          "name": "stdout"
        }
      ]
    },
    {
      "cell_type": "code",
      "metadata": {
        "id": "QH37ZB3hpUMe"
      },
      "source": [
        "# Create input layer\n",
        "inputs = layers.Input(shape=input_shape, name=\"input_layer\")\n",
        "\n",
        "# Add in data augmentation Sequential model as a layer\n",
        "x = data_augmentation(inputs)\n",
        "\n",
        "# Give base_model inputs (after augmentation) and don't train it\n",
        "x = base_model(x, training=False)\n",
        "\n",
        "# Pool output features of base model\n",
        "x = layers.GlobalAveragePooling2D(name=\"global_average_pooling_layer\")(x)\n",
        "\n",
        "# Put a dense layer on as the output\n",
        "outputs = layers.Dense(10, activation=\"softmax\", name=\"output_layer\")(x)\n",
        "\n",
        "# Make a model with inputs and outputs\n",
        "model_1 = keras.Model(inputs, outputs)"
      ],
      "execution_count": null,
      "outputs": []
    },
    {
      "cell_type": "code",
      "metadata": {
        "id": "vKvtM0aYpbzB"
      },
      "source": [
        "# Compile the model\n",
        "model_1.compile(loss=\"categorical_crossentropy\",\n",
        "              optimizer=tf.keras.optimizers.Adam(),\n",
        "              metrics=[\"accuracy\"])"
      ],
      "execution_count": null,
      "outputs": []
    }
  ]
}